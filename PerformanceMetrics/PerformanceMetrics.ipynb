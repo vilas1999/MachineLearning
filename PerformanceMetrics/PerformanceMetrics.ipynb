{
 "cells": [
  {
   "cell_type": "markdown",
   "metadata": {
    "colab_type": "text",
    "id": "s0Ej_bXyQvnV"
   },
   "source": [
    "# Compute performance metrics for the given Y and Y_score without sklearn"
   ]
  },
  {
   "cell_type": "code",
   "execution_count": 17,
   "metadata": {
    "colab": {},
    "colab_type": "code",
    "id": "4CHb6NE7Qvnc"
   },
   "outputs": [],
   "source": [
    "import numpy as np\n",
    "import pandas as pd\n",
    "# other than these two you should not import any other packages"
   ]
  },
  {
   "cell_type": "markdown",
   "metadata": {
    "colab_type": "text",
    "id": "KbsWXuDaQvnq"
   },
   "source": [
    "<pre>\n",
    "<font color='red'><b>A.</b></font> Compute performance metrics for the given data <strong>5_a.csv</strong>\n",
    "   <b>Note 1:</b> in this data you can see number of positive points >> number of negatives points\n",
    "   <b>Note 2:</b> use pandas or numpy to read the data from <b>5_a.csv</b>\n",
    "   <b>Note 3:</b> you need to derive the class labels from given score</pre> $y^{pred}= \\text{[0 if y_score < 0.5 else 1]}$\n",
    "\n",
    "<pre>\n",
    "<ol>\n",
    "<li> Compute Confusion Matrix </li>\n",
    "<li> Compute F1 Score </li>\n",
    "<li> Compute AUC Score, you need to compute different thresholds and for each threshold compute tpr,fpr and then use               numpy.trapz(tpr_array, fpr_array) <a href='https://stackoverflow.com/q/53603376/4084039'>https://stackoverflow.com/q/53603376/4084039</a>, <a href='https://stackoverflow.com/a/39678975/4084039'>https://stackoverflow.com/a/39678975/4084039</a> Note: it should be numpy.trapz(tpr_array, fpr_array) not numpy.trapz(fpr_array, tpr_array)</li>\n",
    "<li> Compute Accuracy Score </li>\n",
    "</ol>\n",
    "</pre>"
   ]
  },
  {
   "cell_type": "markdown",
   "metadata": {},
   "source": [
    "### A. 1. Confusion Matrix"
   ]
  },
  {
   "cell_type": "code",
   "execution_count": 18,
   "metadata": {},
   "outputs": [
    {
     "name": "stdout",
     "output_type": "stream",
     "text": [
      "TN   FN   FP   TP\n",
      "0    0   100   10000\n"
     ]
    }
   ],
   "source": [
    "#A.\n",
    "#1. Confusion Matrix\n",
    "\n",
    "data1 = pd.read_csv(\"5_a.csv\")\n",
    "data = pd.read_csv(\"5_a.csv\")\n",
    "\n",
    "#Classsifing the data\n",
    "data.loc[data['proba'] < 0.5,'proba'] = 0\n",
    "data.loc[data['proba'] >= 0.5,'proba'] = 1\n",
    "\n",
    "\n",
    "y = list(data['y'])\n",
    "proba = list(data['proba'])\n",
    "\n",
    "#confusion Matrix as a funciton\n",
    "def confusion_matrix(y,proba):\n",
    "    true_neg, false_neg, false_pos, true_pos = 0,0,0,0\n",
    "\n",
    "    for i in range(len(y)):\n",
    "        if y[i] == 0 and proba[i] == 0:\n",
    "            true_neg += 1\n",
    "\n",
    "        elif y[i] == 0 and proba[i] == 1:\n",
    "            false_pos += 1\n",
    "        elif y[i] == 1 and proba[i] == 0:\n",
    "            false_neg += 1\n",
    "        elif y[i] == 1 and proba[i] == 1:\n",
    "            true_pos += 1\n",
    "    \n",
    "    return (true_neg,false_neg,false_pos,true_pos) \n",
    "\n",
    "true_neg,false_neg,false_pos,true_pos = confusion_matrix(y,proba)\n",
    "print(\"TN\",\" \",\"FN\",\" \",\"FP\",\" \",\"TP\")\n",
    "print(true_neg,\"  \",false_neg,\" \",false_pos,\" \",true_pos)"
   ]
  },
  {
   "cell_type": "markdown",
   "metadata": {},
   "source": [
    "### A. 2. F1 score"
   ]
  },
  {
   "cell_type": "code",
   "execution_count": 19,
   "metadata": {},
   "outputs": [
    {
     "name": "stdout",
     "output_type": "stream",
     "text": [
      "Precision:  0.9900990099009901\n",
      "Recall:  1.0\n",
      "F1 Score:  0.9950248756218906\n"
     ]
    }
   ],
   "source": [
    "#f1 score\n",
    "\n",
    "precision = (true_pos/(true_pos+false_pos))\n",
    "\n",
    "print(\"Precision: \",precision)\n",
    "\n",
    "recall = (true_pos/(true_pos+false_neg)) \n",
    "print(\"Recall: \",recall)\n",
    "\n",
    "f1_score = (2*precision*recall)/(precision+recall)\n",
    "print(\"F1 Score: \",f1_score)"
   ]
  },
  {
   "cell_type": "markdown",
   "metadata": {},
   "source": [
    "### A. 4. Accuracy Score"
   ]
  },
  {
   "cell_type": "code",
   "execution_count": 21,
   "metadata": {},
   "outputs": [
    {
     "name": "stdout",
     "output_type": "stream",
     "text": [
      "Accuracy Score:  0.9900990099009901\n"
     ]
    }
   ],
   "source": [
    "#Accuracy Score\n",
    "\n",
    "accuracy_score = (true_pos+true_neg)/(true_pos+true_neg+false_pos+false_neg)\n",
    "print(\"Accuracy Score: \",accuracy_score)\n"
   ]
  },
  {
   "cell_type": "markdown",
   "metadata": {},
   "source": [
    "### A. 3. AUC Score"
   ]
  },
  {
   "cell_type": "code",
   "execution_count": 22,
   "metadata": {},
   "outputs": [
    {
     "name": "stderr",
     "output_type": "stream",
     "text": [
      "100%|██████████| 10100/10100 [03:35<00:00, 63.20it/s]\n"
     ]
    },
    {
     "name": "stdout",
     "output_type": "stream",
     "text": [
      "0.48829900000000004\n"
     ]
    }
   ],
   "source": [
    "#AUC score\n",
    "from tqdm import tqdm\n",
    "\n",
    "unique = data1.proba.unique()\n",
    "unique = sorted(unique,reverse= True)\n",
    "\n",
    "#Sorting the data\n",
    "data1 = data1.sort_values(by='proba',ascending=False)\n",
    "\n",
    "#Creating a copy of the data\n",
    "temp = data1.copy()\n",
    "\n",
    "#tpr and fpr array\n",
    "true_positive_rates = []\n",
    "false_positive_rates = []\n",
    "\n",
    "#Calculatig tpr and fpr for each threshold value\n",
    "for i in tqdm(unique):\n",
    "    data1.loc[data1['proba'] >= i,'proba'] = 1\n",
    "    data1.loc[data1['proba'] < i,'proba'] = 0\n",
    "\n",
    "    y = list(data1['y'])\n",
    "    proba = list(data1['proba'])\n",
    "\n",
    "    #getting values from confusion matrix\n",
    "    true_neg,false_neg,false_pos,true_pos = confusion_matrix(y,proba)\n",
    "    \n",
    "    #calclating tpr and fpr for signle thershold value\n",
    "    tpr = (true_pos/(true_pos+false_neg))\n",
    "    fpr = (false_pos/(true_neg+false_pos))\n",
    "    \n",
    "    true_positive_rates.append(tpr)\n",
    "    false_positive_rates.append(fpr)\n",
    "    \n",
    "    #restoring the original data\n",
    "    data1 = temp.copy()    \n",
    "    \n",
    "#Calculating the area under curve\n",
    "auc_score = np.trapz(true_positive_rates,false_positive_rates) \n",
    "print(auc_score)\n",
    "    \n"
   ]
  },
  {
   "cell_type": "code",
   "execution_count": 23,
   "metadata": {},
   "outputs": [
    {
     "data": {
      "image/png": "[encoded data removed]",
      "text/plain": [
       "<Figure size 432x288 with 1 Axes>"
      ]
     },
     "metadata": {
      "needs_background": "light"
     },
     "output_type": "display_data"
    }
   ],
   "source": [
    "import matplotlib.pyplot as plt\n",
    "plt.plot(false_positive_rates, true_positive_rates)\n",
    "plt.ylabel('True Positive Rates')\n",
    "plt.xlabel('False Positive Rates')\n",
    "plt.show()"
   ]
  },
  {
   "cell_type": "markdown",
   "metadata": {
    "colab_type": "text",
    "id": "V5KZem1BQvn2"
   },
   "source": [
    "<pre>\n",
    "<font color='red'><b>B.</b></font> Compute performance metrics for the given data <strong>5_b.csv</strong>\n",
    "   <b>Note 1:</b> in this data you can see number of positive points << number of negatives points\n",
    "   <b>Note 2:</b> use pandas or numpy to read the data from <b>5_b.csv</b>\n",
    "   <b>Note 3:</b> you need to derive the class labels from given score</pre> $y^{pred}= \\text{[0 if y_score < 0.5 else 1]}$\n",
    "\n",
    "<pre>\n",
    "<ol>\n",
    "<li> Compute Confusion Matrix </li>\n",
    "<li> Compute F1 Score </li>\n",
    "<li> Compute AUC Score, you need to compute different thresholds and for each threshold compute tpr,fpr and then use               numpy.trapz(tpr_array, fpr_array) <a href='https://stackoverflow.com/q/53603376/4084039'>https://stackoverflow.com/q/53603376/4084039</a>, <a href='https://stackoverflow.com/a/39678975/4084039'>https://stackoverflow.com/a/39678975/4084039</a></li>\n",
    "<li> Compute Accuracy Score </li>\n",
    "</ol>\n",
    "</pre>"
   ]
  },
  {
   "cell_type": "markdown",
   "metadata": {},
   "source": [
    "### B. 1. Confusion Matrix"
   ]
  },
  {
   "cell_type": "code",
   "execution_count": 24,
   "metadata": {
    "colab": {},
    "colab_type": "code",
    "id": "U2sKlq0YQvn5"
   },
   "outputs": [
    {
     "name": "stdout",
     "output_type": "stream",
     "text": [
      "TN    FN   FP   TP\n",
      "9761  45  239   55\n"
     ]
    }
   ],
   "source": [
    "# write your code\n",
    "#B.\n",
    "#1. Confusion Matrix\n",
    "\n",
    "data1 = pd.read_csv(\"5_b.csv\")\n",
    "data = pd.read_csv(\"5_b.csv\")\n",
    "\n",
    "#Classifing data\n",
    "data.loc[data['proba'] < 0.5,'proba'] = 0\n",
    "data.loc[data['proba'] >= 0.5,'proba'] = 1\n",
    "\n",
    "\n",
    "y = list(data['y'])\n",
    "proba = list(data['proba'])\n",
    "\n",
    "#Confusion Matrix\n",
    "def confusion_matrix(y,proba):\n",
    "    true_neg, false_neg, false_pos, true_pos = 0,0,0,0\n",
    "\n",
    "    for i in range(len(y)):\n",
    "        if y[i] == 0 and proba[i] == 0:\n",
    "            true_neg += 1\n",
    "\n",
    "        elif y[i] == 0 and proba[i] == 1:\n",
    "            false_pos += 1\n",
    "\n",
    "        elif y[i] == 1 and proba[i] == 0:\n",
    "            false_neg += 1\n",
    "        \n",
    "        elif y[i] == 1 and proba[i] == 1:\n",
    "            true_pos += 1\n",
    "    \n",
    "    return (true_neg,false_neg,false_pos,true_pos) \n",
    "\n",
    "\n",
    "true_neg,false_neg,false_pos,true_pos = confusion_matrix(y,proba)\n",
    "\n",
    "print(\"TN\",\"  \",\"FN\",\" \",\"FP\",\" \",\"TP\")\n",
    "print(true_neg,\"\",false_neg,\"\",false_pos,\" \",true_pos)\n"
   ]
  },
  {
   "cell_type": "markdown",
   "metadata": {},
   "source": [
    "### B. 2. F1 score"
   ]
  },
  {
   "cell_type": "code",
   "execution_count": 25,
   "metadata": {},
   "outputs": [
    {
     "name": "stdout",
     "output_type": "stream",
     "text": [
      "Precison:  0.1870748299319728\n",
      "Recall:  0.55\n",
      "F1 Score:  0.2791878172588833\n"
     ]
    }
   ],
   "source": [
    "#f1 score\n",
    "\n",
    "precision = (true_pos/(true_pos+false_pos))\n",
    "print(\"Precison: \",precision)\n",
    "\n",
    "recall = (true_pos/(true_pos+false_neg)) \n",
    "print(\"Recall: \",recall)\n",
    "\n",
    "f1_score = (2*precision*recall)/(precision+recall)\n",
    "print(\"F1 Score: \",f1_score)"
   ]
  },
  {
   "cell_type": "markdown",
   "metadata": {},
   "source": [
    "### B. 4. Accurcy Score"
   ]
  },
  {
   "cell_type": "code",
   "execution_count": 26,
   "metadata": {},
   "outputs": [
    {
     "name": "stdout",
     "output_type": "stream",
     "text": [
      "Accuracy Score:  0.9718811881188119\n"
     ]
    }
   ],
   "source": [
    "#Accuracy Score\n",
    "\n",
    "accuracy_score = (true_pos+true_neg)/(true_pos+true_neg+false_pos+false_neg)\n",
    "print(\"Accuracy Score: \",accuracy_score)\n"
   ]
  },
  {
   "cell_type": "markdown",
   "metadata": {},
   "source": [
    "### B. 3. AUC Score"
   ]
  },
  {
   "cell_type": "code",
   "execution_count": 27,
   "metadata": {},
   "outputs": [
    {
     "name": "stderr",
     "output_type": "stream",
     "text": [
      "100%|██████████| 10100/10100 [02:28<00:00, 67.90it/s]\n"
     ]
    },
    {
     "name": "stdout",
     "output_type": "stream",
     "text": [
      "0.9377570000000001\n"
     ]
    }
   ],
   "source": [
    "#lisitng unique values\n",
    "unique = data1.proba.unique()\n",
    "unique = sorted(unique,reverse= True)\n",
    "\n",
    "#Sorting data\n",
    "data1 = data1.sort_values(by='proba',ascending=False)\n",
    "\n",
    "#Creating deep copy of data\n",
    "temp = data1.copy()\n",
    "\n",
    "#tpr and fpr arrays\n",
    "true_positive_rates = []\n",
    "false_positive_rates = []\n",
    "\n",
    "for i in tqdm(unique):\n",
    "    \n",
    "    #Classifing based on threshold\n",
    "    data1.loc[data1['proba'] >= i,'proba'] = 1\n",
    "    data1.loc[data1['proba'] < i,'proba'] = 0\n",
    "    \n",
    "    y = list(data1['y'])\n",
    "    proba = list(data1['proba'])\n",
    "\n",
    "    #COnfusion matrix\n",
    "    true_neg,false_neg,false_pos,true_pos = confusion_matrix(y,proba)\n",
    "    \n",
    "    tpr = (true_pos/(true_pos+false_neg))\n",
    "    fpr = (false_pos/(true_neg+false_pos))\n",
    "    \n",
    "    true_positive_rates.append(tpr)\n",
    "    false_positive_rates.append(fpr)\n",
    "        \n",
    "    data1 = temp.copy()    \n",
    "    \n",
    "auc_score = np.trapz(true_positive_rates,false_positive_rates)\n",
    "print(auc_score)    \n",
    "    \n"
   ]
  },
  {
   "cell_type": "code",
   "execution_count": 28,
   "metadata": {},
   "outputs": [
    {
     "data": {
      "image/png": "[encoded data removed]",
      "text/plain": [
       "<Figure size 432x288 with 1 Axes>"
      ]
     },
     "metadata": {
      "needs_background": "light"
     },
     "output_type": "display_data"
    }
   ],
   "source": [
    "import matplotlib.pyplot as plt\n",
    "plt.plot(false_positive_rates, true_positive_rates)\n",
    "plt.ylabel('True Positive Rates')\n",
    "plt.xlabel('False Positive Rates')\n",
    "plt.show()"
   ]
  },
  {
   "cell_type": "markdown",
   "metadata": {
    "colab_type": "text",
    "id": "GiPGonTzQvoB"
   },
   "source": [
    "<font color='red'><b>C.</b></font> Compute the best threshold (similarly to ROC curve computation) of probability which gives lowest values of metric <b>A</b> for the given data <strong>5_c.csv</strong>\n",
    "<br>\n",
    "\n",
    "you will be predicting label of a data points like this: $y^{pred}= \\text{[0 if y_score < threshold  else 1]}$\n",
    "\n",
    "$ A = 500 \\times \\text{number of false negative} + 100 \\times \\text{numebr of false positive}$\n",
    "\n",
    "<pre>\n",
    "   <b>Note 1:</b> in this data you can see number of negative points > number of positive points\n",
    "   <b>Note 2:</b> use pandas or numpy to read the data from <b>5_c.csv</b>\n",
    "</pre>"
   ]
  },
  {
   "cell_type": "markdown",
   "metadata": {},
   "source": [
    "## C."
   ]
  },
  {
   "cell_type": "code",
   "execution_count": 12,
   "metadata": {
    "colab": {},
    "colab_type": "code",
    "id": "x5HIJzq1QvoE"
   },
   "outputs": [
    {
     "name": "stdout",
     "output_type": "stream",
     "text": [
      "Threshold Value: 0.2300390278970873 \n",
      " Metric Value:  141000\n"
     ]
    }
   ],
   "source": [
    "import sys \n",
    "INT_MAX = sys.maxsize \n",
    "\n",
    "#holds the threshold of minimum metric value\n",
    "minimum = INT_MAX\n",
    "\n",
    "#holds the minimum metric value\n",
    "threshold = -1\n",
    "\n",
    "data2 = pd.read_csv(\"5_c.csv\")\n",
    "\n",
    "unique = data2.prob.unique()\n",
    "unique = sorted(unique)\n",
    "\n",
    "data2 = data2.sort_values(by='prob',ascending=False)\n",
    "temp = data2.copy()\n",
    "\n",
    "#Calculating false neg and false pos\n",
    "for i in unique:\n",
    "    data2.loc[data2['prob'] >= i,'prob'] = 1\n",
    "    data2.loc[data2['prob'] < i,'prob'] = 0\n",
    "    y = list(data2['y'])\n",
    "    prob = list(data2['prob'])\n",
    "\n",
    "    true_neg,false_neg,false_pos,true_pos = confusion_matrix(y,prob)\n",
    "\n",
    "    A = 500*false_neg+100*false_pos\n",
    "    \n",
    "    if A < minimum:\n",
    "        minimum = A\n",
    "        threshold = i\n",
    "    \n",
    "    data2 = temp.copy()    \n",
    "    \n",
    "\n",
    "print(\"Threshold Value:\",threshold,\"\\n\",\"Metric Value: \",minimum)\n",
    "    \n",
    "    "
   ]
  },
  {
   "cell_type": "markdown",
   "metadata": {
    "colab_type": "text",
    "id": "sD4CcgjXQvoL"
   },
   "source": [
    "<pre>\n",
    "<font color='red'><b>D.</b></font> Compute performance metrics(for regression) for the given data <strong>5_d.csv</strong>\n",
    "    <b>Note 2:</b> use pandas or numpy to read the data from <b>5_d.csv</b>\n",
    "    <b>Note 1:</b> <b>5_d.csv</b> will having two columns Y and predicted_Y both are real valued features\n",
    "<ol>\n",
    "<li> Compute Mean Square Error </li>\n",
    "<li> Compute MAPE: https://www.youtube.com/watch?v=ly6ztgIkUxk</li>\n",
    "<li> Compute R^2 error: https://en.wikipedia.org/wiki/Coefficient_of_determination#Definitions </li>\n",
    "</ol>\n",
    "</pre>"
   ]
  },
  {
   "cell_type": "markdown",
   "metadata": {},
   "source": [
    "### D. 1. Mean Squared Error"
   ]
  },
  {
   "cell_type": "code",
   "execution_count": 13,
   "metadata": {},
   "outputs": [
    {
     "name": "stdout",
     "output_type": "stream",
     "text": [
      "177.16569974554707\n"
     ]
    }
   ],
   "source": [
    "data3 = pd.read_csv('5_d.csv')\n",
    "\n",
    "y = list(data3['y'])\n",
    "pred = list(data3['pred'])\n",
    "\n",
    "mean_square_error = np.square(np.subtract(y,pred)).mean() \n",
    "print(mean_square_error) \n"
   ]
  },
  {
   "cell_type": "markdown",
   "metadata": {},
   "source": [
    "### D. 2. MAPE"
   ]
  },
  {
   "cell_type": "code",
   "execution_count": 14,
   "metadata": {},
   "outputs": [
    {
     "name": "stdout",
     "output_type": "stream",
     "text": [
      "MAPE 12.91202994009687\n"
     ]
    }
   ],
   "source": [
    "error = np.absolute(np.subtract(y,pred))\n",
    "\n",
    "MAPE = (sum(error)/sum(y))*100\n",
    "print(\"MAPE\", MAPE)\n"
   ]
  },
  {
   "cell_type": "markdown",
   "metadata": {},
   "source": [
    "### D. 3. R Square"
   ]
  },
  {
   "cell_type": "code",
   "execution_count": 15,
   "metadata": {},
   "outputs": [
    {
     "name": "stdout",
     "output_type": "stream",
     "text": [
      "R Square: 0.9563582786990937\n"
     ]
    }
   ],
   "source": [
    "ss_total = np.sum(np.square(y-np.mean(y)))\n",
    "\n",
    "ss_res = np.sum(np.square(np.subtract(y,pred)))\n",
    "\n",
    "r_square = 1 - (ss_res/ss_total)\n",
    "print(\"R Square:\",r_square)"
   ]
  }
 ],
 "metadata": {
  "colab": {
   "collapsed_sections": [],
   "name": "5_Performance_metrics_Instructions.ipynb",
   "provenance": []
  },
  "kernelspec": {
   "display_name": "Python 3",
   "language": "python",
   "name": "python3"
  },
  "language_info": {
   "codemirror_mode": {
    "name": "ipython",
    "version": 3
   },
   "file_extension": ".py",
   "mimetype": "text/x-python",
   "name": "python",
   "nbconvert_exporter": "python",
   "pygments_lexer": "ipython3",
   "version": "3.7.3"
  }
 },
 "nbformat": 4,
 "nbformat_minor": 1
}
