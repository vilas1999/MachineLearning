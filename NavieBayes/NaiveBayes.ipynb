{
 "cells": [
  {
   "cell_type": "markdown",
   "metadata": {
    "colab_type": "text",
    "id": "Dnubs-Nnb3cw"
   },
   "source": [
    "# Assignment 6: Apply NB"
   ]
  },
  {
   "cell_type": "markdown",
   "metadata": {
    "colab_type": "text",
    "id": "12krXa2pb3c1"
   },
   "source": [
    "<ol>\n",
    "    <li><strong>Apply Multinomial NB on these feature sets</strong>\n",
    "        <ul>\n",
    "            <li><font color='red'>Set 1</font>: categorical, numerical features + preprocessed_eassay (BOW)</li>\n",
    "            <li><font color='red'>Set 2</font>: categorical, numerical features + preprocessed_eassay (TFIDF)</li>\n",
    "        </ul>\n",
    "    </li>\n",
    "    <li><strong>The hyper paramter tuning(find best alpha:smoothing parameter)</strong>\n",
    "        <ul>\n",
    "    <li>Find the best hyper parameter which will give the maximum <a href='https://www.appliedaicourse.com/course/applied-ai-course-online/lessons/receiver-operating-characteristic-curve-roc-curve-and-auc-1/'>AUC</a> value</li>\n",
    "    <li>find the best hyper paramter using k-fold cross validation(use GridsearchCV or RandomsearchCV)/simple cross validation data (write for loop to iterate over hyper parameter values)</li>\n",
    "    <li></li>\n",
    "        </ul>\n",
    "    </li>\n",
    "    <li>\n",
    "    <strong>Representation of results</strong>\n",
    "        <ul>\n",
    "    <li>You need to plot the performance of model both on train data and cross validation data for each hyper parameter, like shown in the figure\n",
    "    <img src='https://i.imgur.com/hUv6aEy.jpg' width=300px></li>\n",
    "    <li>Once after you found the best hyper parameter, you need to train your model with it, and find the AUC on test data and plot the ROC curve on both train and test.\n",
    "    <img src='https://i.imgur.com/wMQDTFe.jpg' width=300px></li>\n",
    "    <li>Along with plotting ROC curve, you need to print the <a href='https://www.appliedaicourse.com/course/applied-ai-course-online/lessons/confusion-matrix-tpr-fpr-fnr-tnr-1/'>confusion matrix</a> with predicted and original labels of test data points\n",
    "    <img src='https://i.imgur.com/IdN5Ctv.png' width=300px></li>\n",
    "        </ul>\n",
    "    </li>\n",
    "    <li>\n",
    "fine the top 20 features from either from feature <font color='red'>Set 1</font> or feature <font color='red'>Set 2</font> using absolute values of `feature_log_prob_ ` parameter of `MultinomialNB` \n",
    "(https://scikit-learn.org/stable/modules/generated/sklearn.naive_bayes.MultinomialNB.html) and print their corresponding feature names\n",
    "    </li>\n",
    "    <li>You need to summarize the results at the end of the notebook, summarize it in the table format\n",
    "        <img src='http://i.imgur.com/YVpIGGE.jpg' width=400px>\n",
    "    </li>\n",
    "</ol>"
   ]
  },
  {
   "cell_type": "markdown",
   "metadata": {
    "colab_type": "text",
    "id": "inzYCIaib3c3"
   },
   "source": [
    "<h1>2. Naive Bayes </h1>"
   ]
  },
  {
   "cell_type": "markdown",
   "metadata": {
    "colab_type": "text",
    "id": "FYqCIxzFb3c5"
   },
   "source": [
    "## 1.1 Loading Data"
   ]
  },
  {
   "cell_type": "code",
   "execution_count": 0,
   "metadata": {
    "colab": {},
    "colab_type": "code",
    "id": "FCImTkPNtsvq"
   },
   "outputs": [],
   "source": [
    "import pandas as pd\n",
    "import nltk\n",
    "from sklearn.feature_extraction.text import TfidfVectorizer\n",
    "from sklearn.feature_extraction.text import CountVectorizer\n",
    "from sklearn.metrics import confusion_matrix\n",
    "from sklearn import metrics\n",
    "from sklearn.metrics import roc_curve, auc\n"
   ]
  },
  {
   "cell_type": "code",
   "execution_count": 0,
   "metadata": {
    "colab": {},
    "colab_type": "code",
    "id": "PM8Dej3-w4XU"
   },
   "outputs": [],
   "source": [
    "data = pd.read_csv('/content/drive/My Drive/AppliedAI/preprocessed_data.csv')"
   ]
  },
  {
   "cell_type": "code",
   "execution_count": 3,
   "metadata": {
    "colab": {
     "base_uri": "https://localhost:8080/",
     "height": 660
    },
    "colab_type": "code",
    "id": "QoViJgnWw7Dg",
    "outputId": "1503f73c-7c70-49e1-8cbc-b9e294a82a27"
   },
   "outputs": [
    {
     "data": {
      "text/html": [
       "<div>\n",
       "<style scoped>\n",
       "    .dataframe tbody tr th:only-of-type {\n",
       "        vertical-align: middle;\n",
       "    }\n",
       "\n",
       "    .dataframe tbody tr th {\n",
       "        vertical-align: top;\n",
       "    }\n",
       "\n",
       "    .dataframe thead th {\n",
       "        text-align: right;\n",
       "    }\n",
       "</style>\n",
       "<table border=\"1\" class=\"dataframe\">\n",
       "  <thead>\n",
       "    <tr style=\"text-align: right;\">\n",
       "      <th></th>\n",
       "      <th>school_state</th>\n",
       "      <th>teacher_prefix</th>\n",
       "      <th>project_grade_category</th>\n",
       "      <th>teacher_number_of_previously_posted_projects</th>\n",
       "      <th>project_is_approved</th>\n",
       "      <th>clean_categories</th>\n",
       "      <th>clean_subcategories</th>\n",
       "      <th>essay</th>\n",
       "      <th>price</th>\n",
       "    </tr>\n",
       "  </thead>\n",
       "  <tbody>\n",
       "    <tr>\n",
       "      <th>0</th>\n",
       "      <td>ca</td>\n",
       "      <td>mrs</td>\n",
       "      <td>grades_prek_2</td>\n",
       "      <td>53</td>\n",
       "      <td>1</td>\n",
       "      <td>math_science</td>\n",
       "      <td>appliedsciences health_lifescience</td>\n",
       "      <td>i fortunate enough use fairy tale stem kits cl...</td>\n",
       "      <td>725.05</td>\n",
       "    </tr>\n",
       "    <tr>\n",
       "      <th>1</th>\n",
       "      <td>ut</td>\n",
       "      <td>ms</td>\n",
       "      <td>grades_3_5</td>\n",
       "      <td>4</td>\n",
       "      <td>1</td>\n",
       "      <td>specialneeds</td>\n",
       "      <td>specialneeds</td>\n",
       "      <td>imagine 8 9 years old you third grade classroo...</td>\n",
       "      <td>213.03</td>\n",
       "    </tr>\n",
       "    <tr>\n",
       "      <th>2</th>\n",
       "      <td>ca</td>\n",
       "      <td>mrs</td>\n",
       "      <td>grades_prek_2</td>\n",
       "      <td>10</td>\n",
       "      <td>1</td>\n",
       "      <td>literacy_language</td>\n",
       "      <td>literacy</td>\n",
       "      <td>having class 24 students comes diverse learner...</td>\n",
       "      <td>329.00</td>\n",
       "    </tr>\n",
       "    <tr>\n",
       "      <th>3</th>\n",
       "      <td>ga</td>\n",
       "      <td>mrs</td>\n",
       "      <td>grades_prek_2</td>\n",
       "      <td>2</td>\n",
       "      <td>1</td>\n",
       "      <td>appliedlearning</td>\n",
       "      <td>earlydevelopment</td>\n",
       "      <td>i recently read article giving students choice...</td>\n",
       "      <td>481.04</td>\n",
       "    </tr>\n",
       "    <tr>\n",
       "      <th>4</th>\n",
       "      <td>wa</td>\n",
       "      <td>mrs</td>\n",
       "      <td>grades_3_5</td>\n",
       "      <td>2</td>\n",
       "      <td>1</td>\n",
       "      <td>literacy_language</td>\n",
       "      <td>literacy</td>\n",
       "      <td>my students crave challenge eat obstacles brea...</td>\n",
       "      <td>17.74</td>\n",
       "    </tr>\n",
       "  </tbody>\n",
       "</table>\n",
       "</div>"
      ],
      "text/plain": [
       "  school_state  ...   price\n",
       "0           ca  ...  725.05\n",
       "1           ut  ...  213.03\n",
       "2           ca  ...  329.00\n",
       "3           ga  ...  481.04\n",
       "4           wa  ...   17.74\n",
       "\n",
       "[5 rows x 9 columns]"
      ]
     },
     "execution_count": 3,
     "metadata": {
      "tags": []
     },
     "output_type": "execute_result"
    }
   ],
   "source": [
    "data.head()"
   ]
  },
  {
   "cell_type": "code",
   "execution_count": 4,
   "metadata": {
    "colab": {
     "base_uri": "https://localhost:8080/",
     "height": 90
    },
    "colab_type": "code",
    "id": "l2-l6ElEw6_v",
    "outputId": "9ff2bfbd-ae45-443c-d978-f635845ac561"
   },
   "outputs": [
    {
     "data": {
      "text/plain": [
       "array(['school_state', 'teacher_prefix', 'project_grade_category',\n",
       "       'teacher_number_of_previously_posted_projects',\n",
       "       'project_is_approved', 'clean_categories', 'clean_subcategories',\n",
       "       'essay', 'price'], dtype=object)"
      ]
     },
     "execution_count": 4,
     "metadata": {
      "tags": []
     },
     "output_type": "execute_result"
    }
   ],
   "source": [
    "data.columns.values"
   ]
  },
  {
   "cell_type": "markdown",
   "metadata": {},
   "source": [
    "### For title\n",
    "\n",
    "Pre-processing project title"
   ]
  },
  {
   "cell_type": "code",
   "execution_count": 0,
   "metadata": {
    "colab": {},
    "colab_type": "code",
    "id": "Afdv_6L0w68t"
   },
   "outputs": [],
   "source": [
    "\n",
    "data1 = pd.read_csv('/content/drive/My Drive/AppliedAI/train_data.csv')"
   ]
  },
  {
   "cell_type": "code",
   "execution_count": 6,
   "metadata": {
    "colab": {
     "base_uri": "https://localhost:8080/",
     "height": 504
    },
    "colab_type": "code",
    "id": "tTx7tsNKyLj8",
    "outputId": "940ceda0-a4b1-45c3-854c-bc1119112848"
   },
   "outputs": [
    {
     "data": {
      "text/html": [
       "<div>\n",
       "<style scoped>\n",
       "    .dataframe tbody tr th:only-of-type {\n",
       "        vertical-align: middle;\n",
       "    }\n",
       "\n",
       "    .dataframe tbody tr th {\n",
       "        vertical-align: top;\n",
       "    }\n",
       "\n",
       "    .dataframe thead th {\n",
       "        text-align: right;\n",
       "    }\n",
       "</style>\n",
       "<table border=\"1\" class=\"dataframe\">\n",
       "  <thead>\n",
       "    <tr style=\"text-align: right;\">\n",
       "      <th></th>\n",
       "      <th>Unnamed: 0</th>\n",
       "      <th>id</th>\n",
       "      <th>teacher_id</th>\n",
       "      <th>teacher_prefix</th>\n",
       "      <th>school_state</th>\n",
       "      <th>project_submitted_datetime</th>\n",
       "      <th>project_grade_category</th>\n",
       "      <th>project_subject_categories</th>\n",
       "      <th>project_subject_subcategories</th>\n",
       "      <th>project_title</th>\n",
       "      <th>project_essay_1</th>\n",
       "      <th>project_essay_2</th>\n",
       "      <th>project_essay_3</th>\n",
       "      <th>project_essay_4</th>\n",
       "      <th>project_resource_summary</th>\n",
       "      <th>teacher_number_of_previously_posted_projects</th>\n",
       "      <th>project_is_approved</th>\n",
       "    </tr>\n",
       "  </thead>\n",
       "  <tbody>\n",
       "    <tr>\n",
       "      <th>0</th>\n",
       "      <td>160221</td>\n",
       "      <td>p253737</td>\n",
       "      <td>c90749f5d961ff158d4b4d1e7dc665fc</td>\n",
       "      <td>Mrs.</td>\n",
       "      <td>IN</td>\n",
       "      <td>2016-12-05 13:43:57</td>\n",
       "      <td>Grades PreK-2</td>\n",
       "      <td>Literacy &amp; Language</td>\n",
       "      <td>ESL, Literacy</td>\n",
       "      <td>Educational Support for English Learners at Home</td>\n",
       "      <td>My students are English learners that are work...</td>\n",
       "      <td>\\\"The limits of your language are the limits o...</td>\n",
       "      <td>NaN</td>\n",
       "      <td>NaN</td>\n",
       "      <td>My students need opportunities to practice beg...</td>\n",
       "      <td>0</td>\n",
       "      <td>0</td>\n",
       "    </tr>\n",
       "    <tr>\n",
       "      <th>1</th>\n",
       "      <td>140945</td>\n",
       "      <td>p258326</td>\n",
       "      <td>897464ce9ddc600bced1151f324dd63a</td>\n",
       "      <td>Mr.</td>\n",
       "      <td>FL</td>\n",
       "      <td>2016-10-25 09:22:10</td>\n",
       "      <td>Grades 6-8</td>\n",
       "      <td>History &amp; Civics, Health &amp; Sports</td>\n",
       "      <td>Civics &amp; Government, Team Sports</td>\n",
       "      <td>Wanted: Projector for Hungry Learners</td>\n",
       "      <td>Our students arrive to our school eager to lea...</td>\n",
       "      <td>The projector we need for our school is very c...</td>\n",
       "      <td>NaN</td>\n",
       "      <td>NaN</td>\n",
       "      <td>My students need a projector to help with view...</td>\n",
       "      <td>7</td>\n",
       "      <td>1</td>\n",
       "    </tr>\n",
       "    <tr>\n",
       "      <th>2</th>\n",
       "      <td>21895</td>\n",
       "      <td>p182444</td>\n",
       "      <td>3465aaf82da834c0582ebd0ef8040ca0</td>\n",
       "      <td>Ms.</td>\n",
       "      <td>AZ</td>\n",
       "      <td>2016-08-31 12:03:56</td>\n",
       "      <td>Grades 6-8</td>\n",
       "      <td>Health &amp; Sports</td>\n",
       "      <td>Health &amp; Wellness, Team Sports</td>\n",
       "      <td>Soccer Equipment for AWESOME Middle School Stu...</td>\n",
       "      <td>\\r\\n\\\"True champions aren't always the ones th...</td>\n",
       "      <td>The students on the campus come to school know...</td>\n",
       "      <td>NaN</td>\n",
       "      <td>NaN</td>\n",
       "      <td>My students need shine guards, athletic socks,...</td>\n",
       "      <td>1</td>\n",
       "      <td>0</td>\n",
       "    </tr>\n",
       "    <tr>\n",
       "      <th>3</th>\n",
       "      <td>45</td>\n",
       "      <td>p246581</td>\n",
       "      <td>f3cb9bffbba169bef1a77b243e620b60</td>\n",
       "      <td>Mrs.</td>\n",
       "      <td>KY</td>\n",
       "      <td>2016-10-06 21:16:17</td>\n",
       "      <td>Grades PreK-2</td>\n",
       "      <td>Literacy &amp; Language, Math &amp; Science</td>\n",
       "      <td>Literacy, Mathematics</td>\n",
       "      <td>Techie Kindergarteners</td>\n",
       "      <td>I work at a unique school filled with both ESL...</td>\n",
       "      <td>My students live in high poverty conditions wi...</td>\n",
       "      <td>NaN</td>\n",
       "      <td>NaN</td>\n",
       "      <td>My students need to engage in Reading and Math...</td>\n",
       "      <td>4</td>\n",
       "      <td>1</td>\n",
       "    </tr>\n",
       "    <tr>\n",
       "      <th>4</th>\n",
       "      <td>172407</td>\n",
       "      <td>p104768</td>\n",
       "      <td>be1f7507a41f8479dc06f047086a39ec</td>\n",
       "      <td>Mrs.</td>\n",
       "      <td>TX</td>\n",
       "      <td>2016-07-11 01:10:09</td>\n",
       "      <td>Grades PreK-2</td>\n",
       "      <td>Math &amp; Science</td>\n",
       "      <td>Mathematics</td>\n",
       "      <td>Interactive Math Tools</td>\n",
       "      <td>Our second grade classroom next year will be m...</td>\n",
       "      <td>For many students, math is a subject that does...</td>\n",
       "      <td>NaN</td>\n",
       "      <td>NaN</td>\n",
       "      <td>My students need hands on practice in mathemat...</td>\n",
       "      <td>1</td>\n",
       "      <td>1</td>\n",
       "    </tr>\n",
       "  </tbody>\n",
       "</table>\n",
       "</div>"
      ],
      "text/plain": [
       "   Unnamed: 0  ... project_is_approved\n",
       "0      160221  ...                   0\n",
       "1      140945  ...                   1\n",
       "2       21895  ...                   0\n",
       "3          45  ...                   1\n",
       "4      172407  ...                   1\n",
       "\n",
       "[5 rows x 17 columns]"
      ]
     },
     "execution_count": 6,
     "metadata": {
      "tags": []
     },
     "output_type": "execute_result"
    }
   ],
   "source": [
    "data1.head()"
   ]
  },
  {
   "cell_type": "code",
   "execution_count": 0,
   "metadata": {
    "colab": {},
    "colab_type": "code",
    "id": "aMOI1z1bw64B"
   },
   "outputs": [],
   "source": [
    "project_title = data1['project_title']"
   ]
  },
  {
   "cell_type": "code",
   "execution_count": 0,
   "metadata": {
    "colab": {},
    "colab_type": "code",
    "id": "ANadsV1Ew61M"
   },
   "outputs": [],
   "source": [
    "stopwords= ['i', 'me', 'my', 'myself', 'we', 'our', 'ours', 'ourselves', 'you', \"you're\", \"you've\",\\\n",
    "            \"you'll\", \"you'd\", 'your', 'yours', 'yourself', 'yourselves', 'he', 'him', 'his', 'himself', \\\n",
    "            'she', \"she's\", 'her', 'hers', 'herself', 'it', \"it's\", 'its', 'itself', 'they', 'them', 'their',\\\n",
    "            'theirs', 'themselves', 'what', 'which', 'who', 'whom', 'this', 'that', \"that'll\", 'these', 'those', \\\n",
    "            'am', 'is', 'are', 'was', 'were', 'be', 'been', 'being', 'have', 'has', 'had', 'having', 'do', 'does', \\\n",
    "            'did', 'doing', 'a', 'an', 'the', 'and', 'but', 'if', 'or', 'because', 'as', 'until', 'while', 'of', \\\n",
    "            'at', 'by', 'for', 'with', 'about', 'against', 'between', 'into', 'through', 'during', 'before', 'after',\\\n",
    "            'above', 'below', 'to', 'from', 'up', 'down', 'in', 'out', 'on', 'off', 'over', 'under', 'again', 'further',\\\n",
    "            'then', 'once', 'here', 'there', 'when', 'where', 'why', 'how', 'all', 'any', 'both', 'each', 'few', 'more',\\\n",
    "            'most', 'other', 'some', 'such', 'only', 'own', 'same', 'so', 'than', 'too', 'very', \\\n",
    "            's', 't', 'can', 'will', 'just', 'don', \"don't\", 'should', \"should've\", 'now', 'd', 'll', 'm', 'o', 're', \\\n",
    "            've', 'y', 'ain', 'aren', \"aren't\", 'couldn', \"couldn't\", 'didn', \"didn't\", 'doesn', \"doesn't\", 'hadn',\\\n",
    "            \"hadn't\", 'hasn', \"hasn't\", 'haven', \"haven't\", 'isn', \"isn't\", 'ma', 'mightn', \"mightn't\", 'mustn',\\\n",
    "            \"mustn't\", 'needn', \"needn't\", 'shan', \"shan't\", 'shouldn', \"shouldn't\", 'wasn', \"wasn't\", 'weren', \"weren't\", \\\n",
    "            'won', \"won't\", 'wouldn', \"wouldn't\"]"
   ]
  },
  {
   "cell_type": "code",
   "execution_count": 9,
   "metadata": {
    "colab": {
     "base_uri": "https://localhost:8080/",
     "height": 35
    },
    "colab_type": "code",
    "id": "vlD5Pmhzw6lF",
    "outputId": "d8ccf079-0f54-4092-aefb-618bed792683"
   },
   "outputs": [
    {
     "name": "stderr",
     "output_type": "stream",
     "text": [
      "100%|██████████| 109248/109248 [00:02<00:00, 46574.78it/s]\n"
     ]
    }
   ],
   "source": [
    "import re\n",
    "\n",
    "def decontracted(phrase):\n",
    "    # specific\n",
    "    phrase = re.sub(r\"won't\", \"will not\", phrase)\n",
    "    phrase = re.sub(r\"can\\'t\", \"can not\", phrase)\n",
    "\n",
    "    # general\n",
    "    phrase = re.sub(r\"n\\'t\", \" not\", phrase)\n",
    "    phrase = re.sub(r\"\\'re\", \" are\", phrase)\n",
    "    phrase = re.sub(r\"\\'s\", \" is\", phrase)\n",
    "    phrase = re.sub(r\"\\'d\", \" would\", phrase)\n",
    "    phrase = re.sub(r\"\\'ll\", \" will\", phrase)\n",
    "    phrase = re.sub(r\"\\'t\", \" not\", phrase)\n",
    "    phrase = re.sub(r\"\\'ve\", \" have\", phrase)\n",
    "    phrase = re.sub(r\"\\'m\", \" am\", phrase)\n",
    "    return phrase\n",
    "\n",
    "from tqdm import tqdm\n",
    "def preprocess_text(text_data):\n",
    "    preprocessed_text = []\n",
    "    # tqdm is for printing the status bar\n",
    "    for sentance in tqdm(text_data):\n",
    "        sent = decontracted(sentance)\n",
    "        sent = sent.replace('\\\\r', ' ')\n",
    "        sent = sent.replace('\\\\n', ' ')\n",
    "        sent = sent.replace('\\\\\"', ' ')\n",
    "        sent = re.sub('[^A-Za-z0-9]+', ' ', sent)\n",
    "        # https://gist.github.com/sebleier/554280\n",
    "        sent = ' '.join(e for e in sent.split() if e.lower() not in stopwords)\n",
    "        preprocessed_text.append(sent.lower().strip())\n",
    "    return preprocessed_text\n",
    "\n",
    "\n",
    "preprocessed_titles = preprocess_text(data1['project_title'].values)\n"
   ]
  },
  {
   "cell_type": "code",
   "execution_count": 10,
   "metadata": {
    "colab": {
     "base_uri": "https://localhost:8080/",
     "height": 35
    },
    "colab_type": "code",
    "id": "7einF68nxL-g",
    "outputId": "cf58e8f5-dc2c-4d3e-cb59-12e365775706"
   },
   "outputs": [
    {
     "data": {
      "text/plain": [
       "109248"
      ]
     },
     "execution_count": 10,
     "metadata": {
      "tags": []
     },
     "output_type": "execute_result"
    }
   ],
   "source": [
    "#number of project title\n",
    "len(data)"
   ]
  },
  {
   "cell_type": "code",
   "execution_count": 0,
   "metadata": {
    "colab": {},
    "colab_type": "code",
    "id": "Uzx_aFy-yWYn"
   },
   "outputs": [],
   "source": [
    "    #Appending preprocessed_title to data\n",
    "    data[\"project_title\"] = preprocessed_titles"
   ]
  },
  {
   "cell_type": "code",
   "execution_count": 0,
   "metadata": {
    "colab": {},
    "colab_type": "code",
    "id": "mCSJva_VyWdo"
   },
   "outputs": [],
   "source": [
    "#Seperating class label from features\n",
    "y = data['project_is_approved'].values\n",
    "x = data.drop(['project_is_approved'], axis=1)\n",
    "\n"
   ]
  },
  {
   "cell_type": "code",
   "execution_count": 0,
   "metadata": {
    "colab": {},
    "colab_type": "code",
    "id": "14Z-xEAyyWrk"
   },
   "outputs": [],
   "source": [
    "# train test split\n",
    "\n",
    "from sklearn.model_selection import train_test_split\n",
    "x_train, x_test, y_train, y_test = train_test_split(x, y, test_size=0.33, stratify=y)\n",
    "x_train, x_cv, y_train, y_cv = train_test_split(x_train, y_train, test_size=0.33, stratify=y_train)"
   ]
  },
  {
   "cell_type": "code",
   "execution_count": 14,
   "metadata": {
    "colab": {
     "base_uri": "https://localhost:8080/",
     "height": 35
    },
    "colab_type": "code",
    "id": "wF9gAiJ1yW2w",
    "outputId": "d500731b-baf5-41f7-9c4e-4d31199ab9ac"
   },
   "outputs": [
    {
     "data": {
      "text/plain": [
       "109248"
      ]
     },
     "execution_count": 14,
     "metadata": {
      "tags": []
     },
     "output_type": "execute_result"
    }
   ],
   "source": [
    "len(x)"
   ]
  },
  {
   "cell_type": "code",
   "execution_count": 0,
   "metadata": {
    "colab": {},
    "colab_type": "code",
    "id": "-byC1qnVA-4A"
   },
   "outputs": [],
   "source": [
    "#final feature names for picking top 20 features\n",
    "final_feature_names = []\n",
    "\n"
   ]
  },
  {
   "cell_type": "markdown",
   "metadata": {},
   "source": [
    "## 1.1 BoW Implementation\n",
    "\n",
    "**Essay Vectorization**"
   ]
  },
  {
   "cell_type": "code",
   "execution_count": 16,
   "metadata": {
    "colab": {
     "base_uri": "https://localhost:8080/",
     "height": 182
    },
    "colab_type": "code",
    "id": "eb22xmIPyWzh",
    "outputId": "6ee4956d-9e64-43f7-9864-fb5a83d70825"
   },
   "outputs": [
    {
     "name": "stdout",
     "output_type": "stream",
     "text": [
      "(49041, 9) (49041,)\n",
      "(24155, 9) (24155,)\n",
      "(36052, 9) (36052,)\n",
      "====================================================================================================\n",
      "5000\n",
      "After vectorizations\n",
      "(49041, 5000) (49041,)\n",
      "(24155, 5000) (24155,)\n",
      "(36052, 5000) (36052,)\n"
     ]
    }
   ],
   "source": [
    "\n",
    "print(x_train.shape, y_train.shape)\n",
    "print(x_cv.shape, y_cv.shape)\n",
    "print(x_test.shape, y_test.shape)\n",
    "\n",
    "print(\"=\"*100)\n",
    "\n",
    "vectorizer = CountVectorizer(min_df=10,ngram_range=(1,4),max_features=5000)\n",
    "vectorizer.fit(x_train['essay'].values) # fit has to happen only on train data\n",
    "\n",
    "x_train_essay_bow = vectorizer.transform(x_train['essay'].values)\n",
    "x_cv_essay_bow = vectorizer.transform(x_cv['essay'].values)\n",
    "x_test_essay_bow = vectorizer.transform(x_test['essay'].values)\n",
    "    \n",
    "final_feature_names +=  vectorizer.get_feature_names()\n",
    "print(len(final_feature_names))\n",
    "\n",
    "print(\"After vectorizations\")\n",
    "print(x_train_essay_bow.shape, y_train.shape)\n",
    "print(x_cv_essay_bow.shape, y_cv.shape)\n",
    "print(x_test_essay_bow.shape, y_test.shape)\n"
   ]
  },
  {
   "cell_type": "markdown",
   "metadata": {},
   "source": [
    "**Project Title Vectorization**"
   ]
  },
  {
   "cell_type": "code",
   "execution_count": 17,
   "metadata": {
    "colab": {
     "base_uri": "https://localhost:8080/",
     "height": 182
    },
    "colab_type": "code",
    "id": "5xVONM1vyWvZ",
    "outputId": "44e83807-416d-4bf3-9a64-8aaa9a3e96c6"
   },
   "outputs": [
    {
     "name": "stdout",
     "output_type": "stream",
     "text": [
      "(49041, 9) (49041,)\n",
      "(24155, 9) (24155,)\n",
      "(36052, 9) (36052,)\n",
      "====================================================================================================\n",
      "8447\n",
      "After vectorizations\n",
      "(49041, 3447) (49041,)\n",
      "(24155, 3447) (24155,)\n",
      "(36052, 3447) (36052,)\n"
     ]
    }
   ],
   "source": [
    "#project title\n",
    "print(x_train.shape, y_train.shape)\n",
    "print(x_cv.shape, y_cv.shape)\n",
    "print(x_test.shape, y_test.shape)\n",
    "\n",
    "print(\"=\"*100)\n",
    "\n",
    "vectorizer = CountVectorizer(min_df=10,ngram_range=(1,4),max_features=5000)\n",
    "vectorizer.fit(x_train['project_title'].values) # fit has to happen only on train data\n",
    "\n",
    "x_train_project_title_bow = vectorizer.transform(x_train['project_title'].values)\n",
    "x_cv_project_title_bow = vectorizer.transform(x_cv['project_title'].values)\n",
    "x_test_project_title_bow = vectorizer.transform(x_test['project_title'].values)\n",
    "final_feature_names += vectorizer.get_feature_names()\n",
    "print(len(final_feature_names))\n",
    "\n",
    "\n",
    "print(\"After vectorizations\")\n",
    "print(x_train_project_title_bow.shape, y_train.shape)\n",
    "print(x_cv_project_title_bow.shape, y_cv.shape)\n",
    "print(x_test_project_title_bow.shape, y_test.shape)\n"
   ]
  },
  {
   "cell_type": "markdown",
   "metadata": {},
   "source": [
    "**School State Encoding**"
   ]
  },
  {
   "cell_type": "code",
   "execution_count": 18,
   "metadata": {
    "colab": {
     "base_uri": "https://localhost:8080/",
     "height": 166
    },
    "colab_type": "code",
    "id": "1iRLGaenyWqJ",
    "outputId": "822159f8-bed3-4b4d-9a18-69c39c858b79"
   },
   "outputs": [
    {
     "name": "stdout",
     "output_type": "stream",
     "text": [
      "8498\n",
      "After vectorizations\n",
      "(49041, 51) (49041,)\n",
      "(24155, 51) (24155,)\n",
      "(36052, 51) (36052,)\n",
      "['ak', 'al', 'ar', 'az', 'ca', 'co', 'ct', 'dc', 'de', 'fl', 'ga', 'hi', 'ia', 'id', 'il', 'in', 'ks', 'ky', 'la', 'ma', 'md', 'me', 'mi', 'mn', 'mo', 'ms', 'mt', 'nc', 'nd', 'ne', 'nh', 'nj', 'nm', 'nv', 'ny', 'oh', 'ok', 'or', 'pa', 'ri', 'sc', 'sd', 'tn', 'tx', 'ut', 'va', 'vt', 'wa', 'wi', 'wv', 'wy']\n",
      "====================================================================================================\n"
     ]
    }
   ],
   "source": [
    "#School state encoding\n",
    "vectorizer = CountVectorizer()\n",
    "vectorizer.fit(x_train['school_state'].values) # fit has to happen only on train data\n",
    "\n",
    "# we use the fitted CountVectorizer to convert the text to vector\n",
    "x_train_state_ohe = vectorizer.transform(x_train['school_state'].values)\n",
    "x_cv_state_ohe = vectorizer.transform(x_cv['school_state'].values)\n",
    "x_test_state_ohe = vectorizer.transform(x_test['school_state'].values)\n",
    "\n",
    "final_feature_names +=  vectorizer.get_feature_names()\n",
    "print(len(final_feature_names))\n",
    "\n",
    "\n",
    "\n",
    "print(\"After vectorizations\")\n",
    "print(x_train_state_ohe.shape, y_train.shape)\n",
    "print(x_cv_state_ohe.shape, y_cv.shape)\n",
    "print(x_test_state_ohe.shape, y_test.shape)\n",
    "print(vectorizer.get_feature_names())\n",
    "print(\"=\"*100)"
   ]
  },
  {
   "cell_type": "markdown",
   "metadata": {},
   "source": [
    "**Teacher Prefix Encoding**"
   ]
  },
  {
   "cell_type": "code",
   "execution_count": 19,
   "metadata": {
    "colab": {
     "base_uri": "https://localhost:8080/",
     "height": 146
    },
    "colab_type": "code",
    "id": "_TyqnzVFyWoe",
    "outputId": "d1e0c928-4925-4e69-92c2-1f01d5af1570"
   },
   "outputs": [
    {
     "name": "stdout",
     "output_type": "stream",
     "text": [
      "8503\n",
      "After vectorizations\n",
      "(49041, 5) (49041,)\n",
      "(24155, 5) (24155,)\n",
      "(36052, 5) (36052,)\n",
      "['dr', 'mr', 'mrs', 'ms', 'teacher']\n",
      "====================================================================================================\n"
     ]
    }
   ],
   "source": [
    "#Teacher prefix encoding\n",
    "vectorizer = CountVectorizer()\n",
    "vectorizer.fit(x_train['teacher_prefix'].values) # fit has to happen only on train data\n",
    "\n",
    "# we use the fitted CountVectorizer to convert the text to vector\n",
    "x_train_teacher_ohe = vectorizer.transform(x_train['teacher_prefix'].values)\n",
    "x_cv_teacher_ohe = vectorizer.transform(x_cv['teacher_prefix'].values)\n",
    "x_test_teacher_ohe = vectorizer.transform(x_test['teacher_prefix'].values)\n",
    "\n",
    "final_feature_names +=  vectorizer.get_feature_names()\n",
    "print(len(final_feature_names))\n",
    "\n",
    "\n",
    "\n",
    "print(\"After vectorizations\")\n",
    "print(x_train_teacher_ohe.shape, y_train.shape)\n",
    "print(x_cv_teacher_ohe.shape, y_cv.shape)\n",
    "print(x_test_teacher_ohe.shape, y_test.shape)\n",
    "print(vectorizer.get_feature_names())\n",
    "print(\"=\"*100)"
   ]
  },
  {
   "cell_type": "markdown",
   "metadata": {},
   "source": [
    "**Project Grade Encoding**"
   ]
  },
  {
   "cell_type": "code",
   "execution_count": 20,
   "metadata": {
    "colab": {
     "base_uri": "https://localhost:8080/",
     "height": 146
    },
    "colab_type": "code",
    "id": "akxAromkyWmh",
    "outputId": "a1bd0ef7-5309-43a6-e032-5c44320546fb"
   },
   "outputs": [
    {
     "name": "stdout",
     "output_type": "stream",
     "text": [
      "8507\n",
      "After vectorizations\n",
      "(49041, 4) (49041,)\n",
      "(24155, 4) (24155,)\n",
      "(36052, 4) (36052,)\n",
      "['grades_3_5', 'grades_6_8', 'grades_9_12', 'grades_prek_2']\n",
      "====================================================================================================\n"
     ]
    }
   ],
   "source": [
    "#project grade encoding\n",
    "vectorizer = CountVectorizer()\n",
    "vectorizer.fit(x_train['project_grade_category'].values) # fit has to happen only on train data\n",
    "\n",
    "# we use the fitted CountVectorizer to convert the text to vector\n",
    "x_train_grade_ohe = vectorizer.transform(x_train['project_grade_category'].values)\n",
    "x_cv_grade_ohe = vectorizer.transform(x_cv['project_grade_category'].values)\n",
    "x_test_grade_ohe = vectorizer.transform(x_test['project_grade_category'].values)\n",
    "\n",
    "final_feature_names +=  vectorizer.get_feature_names()\n",
    "print(len(final_feature_names))\n",
    "\n",
    "\n",
    "\n",
    "print(\"After vectorizations\")\n",
    "print(x_train_grade_ohe.shape, y_train.shape)\n",
    "print(x_cv_grade_ohe.shape, y_cv.shape)\n",
    "print(x_test_grade_ohe.shape, y_test.shape)\n",
    "print(vectorizer.get_feature_names())\n",
    "print(\"=\"*100)"
   ]
  },
  {
   "cell_type": "markdown",
   "metadata": {},
   "source": [
    "**Categories encoding**"
   ]
  },
  {
   "cell_type": "code",
   "execution_count": 21,
   "metadata": {
    "colab": {
     "base_uri": "https://localhost:8080/",
     "height": 146
    },
    "colab_type": "code",
    "id": "Bn6w1b-vyWkI",
    "outputId": "65d51320-420a-4cae-b79c-3f32db56cc1e"
   },
   "outputs": [
    {
     "name": "stdout",
     "output_type": "stream",
     "text": [
      "8516\n",
      "After vectorizations\n",
      "(49041, 9) (49041,)\n",
      "(24155, 9) (24155,)\n",
      "(36052, 9) (36052,)\n",
      "['appliedlearning', 'care_hunger', 'health_sports', 'history_civics', 'literacy_language', 'math_science', 'music_arts', 'specialneeds', 'warmth']\n",
      "====================================================================================================\n"
     ]
    }
   ],
   "source": [
    "#clean_categories encoding\n",
    "vectorizer = CountVectorizer()\n",
    "vectorizer.fit(x_train['clean_categories'].values) # fit has to happen only on train data\n",
    "\n",
    "# we use the fitted CountVectorizer to convert the text to vector\n",
    "x_train_clean_cat_ohe = vectorizer.transform(x_train['clean_categories'].values)\n",
    "x_cv_clean_cat_ohe = vectorizer.transform(x_cv['clean_categories'].values)\n",
    "x_test_clean_cat_ohe = vectorizer.transform(x_test['clean_categories'].values)\n",
    "\n",
    "final_feature_names +=  vectorizer.get_feature_names()\n",
    "print(len(final_feature_names))\n",
    "\n",
    "\n",
    "\n",
    "print(\"After vectorizations\")\n",
    "print(x_train_clean_cat_ohe.shape, y_train.shape)\n",
    "print(x_cv_clean_cat_ohe.shape, y_cv.shape)\n",
    "print(x_test_clean_cat_ohe.shape, y_test.shape)\n",
    "print(vectorizer.get_feature_names())\n",
    "print(\"=\"*100)"
   ]
  },
  {
   "cell_type": "markdown",
   "metadata": {},
   "source": [
    "**Sub-categories encoding**"
   ]
  },
  {
   "cell_type": "code",
   "execution_count": 22,
   "metadata": {
    "colab": {
     "base_uri": "https://localhost:8080/",
     "height": 166
    },
    "colab_type": "code",
    "id": "EN7mC5RqyWiV",
    "outputId": "e7efeaf8-4294-40eb-ce58-e240da007e33"
   },
   "outputs": [
    {
     "name": "stdout",
     "output_type": "stream",
     "text": [
      "8546\n",
      "After vectorizations\n",
      "(49041, 30) (49041,)\n",
      "(24155, 30) (24155,)\n",
      "(36052, 30) (36052,)\n",
      "['appliedsciences', 'care_hunger', 'charactereducation', 'civics_government', 'college_careerprep', 'communityservice', 'earlydevelopment', 'economics', 'environmentalscience', 'esl', 'extracurricular', 'financialliteracy', 'foreignlanguages', 'gym_fitness', 'health_lifescience', 'health_wellness', 'history_geography', 'literacy', 'literature_writing', 'mathematics', 'music', 'nutritioneducation', 'other', 'parentinvolvement', 'performingarts', 'socialsciences', 'specialneeds', 'teamsports', 'visualarts', 'warmth']\n",
      "====================================================================================================\n"
     ]
    }
   ],
   "source": [
    "#clean_subcategories encoding\n",
    "vectorizer = CountVectorizer()\n",
    "vectorizer.fit(x_train['clean_subcategories'].values) # fit has to happen only on train data\n",
    "\n",
    "# we use the fitted CountVectorizer to convert the text to vector\n",
    "x_train_subcat_ohe = vectorizer.transform(x_train['clean_subcategories'].values)\n",
    "x_cv_subcat_ohe = vectorizer.transform(x_cv['clean_subcategories'].values)\n",
    "x_test_subcat_ohe = vectorizer.transform(x_test['clean_subcategories'].values)\n",
    "\n",
    "final_feature_names +=  vectorizer.get_feature_names()\n",
    "print(len(final_feature_names))\n",
    "\n",
    "\n",
    "\n",
    "print(\"After vectorizations\")\n",
    "print(x_train_subcat_ohe.shape, y_train.shape)\n",
    "print(x_cv_subcat_ohe.shape, y_cv.shape)\n",
    "print(x_test_subcat_ohe.shape, y_test.shape)\n",
    "print(vectorizer.get_feature_names())\n",
    "print(\"=\"*100)"
   ]
  },
  {
   "cell_type": "markdown",
   "metadata": {},
   "source": [
    "**Prize Normalization**"
   ]
  },
  {
   "cell_type": "code",
   "execution_count": 23,
   "metadata": {
    "colab": {
     "base_uri": "https://localhost:8080/",
     "height": 127
    },
    "colab_type": "code",
    "id": "lcC5XvI5yzq_",
    "outputId": "f8f99b93-57c3-4d3d-ecef-32478d844628"
   },
   "outputs": [
    {
     "name": "stdout",
     "output_type": "stream",
     "text": [
      "8547\n",
      "After vectorizations\n",
      "(49041, 1) (49041,)\n",
      "(24155, 1) (24155,)\n",
      "(36052, 1) (36052,)\n",
      "====================================================================================================\n"
     ]
    }
   ],
   "source": [
    "from sklearn.preprocessing import Normalizer\n",
    "normalizer = Normalizer()\n",
    "\n",
    "\n",
    "normalizer.fit(x_train['price'].values.reshape(-1,1))\n",
    "\n",
    "x_train_price_norm = normalizer.transform(x_train['price'].values.reshape(-1,1))\n",
    "x_cv_price_norm = normalizer.transform(x_cv['price'].values.reshape(-1,1))\n",
    "x_test_price_norm = normalizer.transform(x_test['price'].values.reshape(-1,1))\n",
    "\n",
    "final_feature_names +=  ['price']\n",
    "print(len(final_feature_names))\n",
    "\n",
    "\n",
    "\n",
    "\n",
    "print(\"After vectorizations\")\n",
    "print(x_train_price_norm.shape, y_train.shape)\n",
    "print(x_cv_price_norm.shape, y_cv.shape)\n",
    "print(x_test_price_norm.shape, y_test.shape)\n",
    "print(\"=\"*100)"
   ]
  },
  {
   "cell_type": "markdown",
   "metadata": {},
   "source": [
    "**teacher_number_of_previously_posted_projects normalization**"
   ]
  },
  {
   "cell_type": "code",
   "execution_count": 24,
   "metadata": {
    "colab": {
     "base_uri": "https://localhost:8080/",
     "height": 127
    },
    "colab_type": "code",
    "id": "cr5QJYn6yzu8",
    "outputId": "47124220-1624-4882-bb35-f958723b6e09"
   },
   "outputs": [
    {
     "name": "stdout",
     "output_type": "stream",
     "text": [
      "8548\n",
      "After vectorizations\n",
      "(49041, 1) (49041,)\n",
      "(24155, 1) (24155,)\n",
      "(36052, 1) (36052,)\n",
      "====================================================================================================\n"
     ]
    }
   ],
   "source": [
    "\n",
    "normalizer = Normalizer()\n",
    "\n",
    "\n",
    "\n",
    "normalizer.fit(x_train['teacher_number_of_previously_posted_projects'].values.reshape(-1,1))\n",
    "\n",
    "x_train_teacher_num_norm = normalizer.transform(x_train['teacher_number_of_previously_posted_projects'].values.reshape(-1,1))\n",
    "x_cv_teacher_num_norm = normalizer.transform(x_cv['teacher_number_of_previously_posted_projects'].values.reshape(-1,1))\n",
    "x_test_teacher_num_norm = normalizer.transform(x_test['teacher_number_of_previously_posted_projects'].values.reshape(-1,1))\n",
    "\n",
    "final_feature_names +=  ['teacher_number_of_previously_posted_projects']\n",
    "print(len(final_feature_names))\n",
    "\n",
    "\n",
    "\n",
    "print(\"After vectorizations\")\n",
    "print(x_train_teacher_num_norm.shape, y_train.shape)\n",
    "print(x_cv_teacher_num_norm.shape, y_cv.shape)\n",
    "print(x_test_teacher_num_norm.shape, y_test.shape)\n",
    "print(\"=\"*100)"
   ]
  },
  {
   "cell_type": "code",
   "execution_count": 25,
   "metadata": {
    "colab": {
     "base_uri": "https://localhost:8080/",
     "height": 127
    },
    "colab_type": "code",
    "id": "4eNg_2Snyz3k",
    "outputId": "8771e0ca-c0d5-496f-d9a3-750a464524c7"
   },
   "outputs": [
    {
     "name": "stdout",
     "output_type": "stream",
     "text": [
      "Final Data matrix\n",
      "(49041, 8548) (49041,)\n",
      "(24155, 8548) (24155,)\n",
      "(36052, 8548) (36052,)\n",
      "8548\n",
      "====================================================================================================\n"
     ]
    }
   ],
   "source": [
    "# merge two sparse matrices: https://stackoverflow.com/a/19710648/4084039\n",
    "from scipy.sparse import hstack\n",
    "x_tr = hstack((x_train_essay_bow,x_train_project_title_bow, x_train_state_ohe, x_train_teacher_ohe, x_train_grade_ohe,x_train_clean_cat_ohe,x_train_subcat_ohe, x_train_price_norm,x_train_teacher_num_norm)).tocsr()\n",
    "x_cr = hstack((x_cv_essay_bow,x_cv_project_title_bow, x_cv_state_ohe, x_cv_teacher_ohe, x_cv_grade_ohe,x_cv_clean_cat_ohe,x_cv_subcat_ohe, x_cv_price_norm,x_cv_teacher_num_norm)).tocsr()\n",
    "x_te = hstack((x_test_essay_bow,x_test_project_title_bow, x_test_state_ohe, x_test_teacher_ohe, x_test_grade_ohe,x_test_clean_cat_ohe,x_test_subcat_ohe, x_test_price_norm,x_test_teacher_num_norm)).tocsr()\n",
    "\n",
    "print(\"Final Data matrix\")\n",
    "print(x_tr.shape, y_train.shape)\n",
    "print(x_cr.shape, y_cv.shape)\n",
    "print(x_te.shape, y_test.shape)\n",
    "print(len(final_feature_names))\n",
    "print(\"=\"*100)"
   ]
  },
  {
   "cell_type": "markdown",
   "metadata": {},
   "source": [
    "### Finding best hyper-parameter using RandomizedSearchCV"
   ]
  },
  {
   "cell_type": "code",
   "execution_count": 26,
   "metadata": {
    "colab": {
     "base_uri": "https://localhost:8080/",
     "height": 632
    },
    "colab_type": "code",
    "id": "ZB3HHYSCyz-H",
    "outputId": "f2ba9435-bedc-45f2-81f1-5a3e0c419e9a"
   },
   "outputs": [
    {
     "name": "stderr",
     "output_type": "stream",
     "text": [
      "/usr/local/lib/python3.6/dist-packages/sklearn/model_selection/_search.py:281: UserWarning: The total space of parameters 8 is smaller than n_iter=10. Running 8 iterations. For exhaustive searches, use GridSearchCV.\n",
      "  % (grid_size, self.n_iter, grid_size), UserWarning)\n"
     ]
    },
    {
     "data": {
      "image/png": "[encoded data removed]",
      "text/plain": [
       "<Figure size 432x288 with 1 Axes>"
      ]
     },
     "metadata": {
      "tags": []
     },
     "output_type": "display_data"
    },
    {
     "data": {
      "text/html": [
       "<div>\n",
       "<style scoped>\n",
       "    .dataframe tbody tr th:only-of-type {\n",
       "        vertical-align: middle;\n",
       "    }\n",
       "\n",
       "    .dataframe tbody tr th {\n",
       "        vertical-align: top;\n",
       "    }\n",
       "\n",
       "    .dataframe thead th {\n",
       "        text-align: right;\n",
       "    }\n",
       "</style>\n",
       "<table border=\"1\" class=\"dataframe\">\n",
       "  <thead>\n",
       "    <tr style=\"text-align: right;\">\n",
       "      <th></th>\n",
       "      <th>mean_fit_time</th>\n",
       "      <th>std_fit_time</th>\n",
       "      <th>mean_score_time</th>\n",
       "      <th>std_score_time</th>\n",
       "      <th>param_alpha</th>\n",
       "      <th>params</th>\n",
       "      <th>split0_test_score</th>\n",
       "      <th>split1_test_score</th>\n",
       "      <th>split2_test_score</th>\n",
       "      <th>mean_test_score</th>\n",
       "      <th>std_test_score</th>\n",
       "      <th>rank_test_score</th>\n",
       "      <th>split0_train_score</th>\n",
       "      <th>split1_train_score</th>\n",
       "      <th>split2_train_score</th>\n",
       "      <th>mean_train_score</th>\n",
       "      <th>std_train_score</th>\n",
       "    </tr>\n",
       "  </thead>\n",
       "  <tbody>\n",
       "    <tr>\n",
       "      <th>0</th>\n",
       "      <td>0.056013</td>\n",
       "      <td>0.000733</td>\n",
       "      <td>0.018101</td>\n",
       "      <td>0.000838</td>\n",
       "      <td>0.0001</td>\n",
       "      <td>{'alpha': 0.0001}</td>\n",
       "      <td>0.669590</td>\n",
       "      <td>0.661500</td>\n",
       "      <td>0.667346</td>\n",
       "      <td>0.666146</td>\n",
       "      <td>0.003410</td>\n",
       "      <td>6</td>\n",
       "      <td>0.777827</td>\n",
       "      <td>0.783671</td>\n",
       "      <td>0.777053</td>\n",
       "      <td>0.779517</td>\n",
       "      <td>0.002954</td>\n",
       "    </tr>\n",
       "    <tr>\n",
       "      <th>1</th>\n",
       "      <td>0.054557</td>\n",
       "      <td>0.001521</td>\n",
       "      <td>0.017326</td>\n",
       "      <td>0.000390</td>\n",
       "      <td>0.001</td>\n",
       "      <td>{'alpha': 0.001}</td>\n",
       "      <td>0.675304</td>\n",
       "      <td>0.667422</td>\n",
       "      <td>0.672643</td>\n",
       "      <td>0.671790</td>\n",
       "      <td>0.003274</td>\n",
       "      <td>5</td>\n",
       "      <td>0.774678</td>\n",
       "      <td>0.780410</td>\n",
       "      <td>0.773985</td>\n",
       "      <td>0.776357</td>\n",
       "      <td>0.002879</td>\n",
       "    </tr>\n",
       "    <tr>\n",
       "      <th>2</th>\n",
       "      <td>0.057896</td>\n",
       "      <td>0.003658</td>\n",
       "      <td>0.018706</td>\n",
       "      <td>0.000777</td>\n",
       "      <td>0.01</td>\n",
       "      <td>{'alpha': 0.01}</td>\n",
       "      <td>0.680640</td>\n",
       "      <td>0.673304</td>\n",
       "      <td>0.678159</td>\n",
       "      <td>0.677367</td>\n",
       "      <td>0.003047</td>\n",
       "      <td>4</td>\n",
       "      <td>0.770062</td>\n",
       "      <td>0.775669</td>\n",
       "      <td>0.769399</td>\n",
       "      <td>0.771710</td>\n",
       "      <td>0.002813</td>\n",
       "    </tr>\n",
       "    <tr>\n",
       "      <th>3</th>\n",
       "      <td>0.056105</td>\n",
       "      <td>0.001750</td>\n",
       "      <td>0.017465</td>\n",
       "      <td>0.000885</td>\n",
       "      <td>0.1</td>\n",
       "      <td>{'alpha': 0.1}</td>\n",
       "      <td>0.685118</td>\n",
       "      <td>0.678218</td>\n",
       "      <td>0.683134</td>\n",
       "      <td>0.682157</td>\n",
       "      <td>0.002901</td>\n",
       "      <td>3</td>\n",
       "      <td>0.763320</td>\n",
       "      <td>0.768808</td>\n",
       "      <td>0.762642</td>\n",
       "      <td>0.764923</td>\n",
       "      <td>0.002761</td>\n",
       "    </tr>\n",
       "    <tr>\n",
       "      <th>4</th>\n",
       "      <td>0.052802</td>\n",
       "      <td>0.000655</td>\n",
       "      <td>0.017159</td>\n",
       "      <td>0.000237</td>\n",
       "      <td>1</td>\n",
       "      <td>{'alpha': 1}</td>\n",
       "      <td>0.687864</td>\n",
       "      <td>0.681428</td>\n",
       "      <td>0.686536</td>\n",
       "      <td>0.685276</td>\n",
       "      <td>0.002775</td>\n",
       "      <td>1</td>\n",
       "      <td>0.752956</td>\n",
       "      <td>0.758287</td>\n",
       "      <td>0.752226</td>\n",
       "      <td>0.754490</td>\n",
       "      <td>0.002702</td>\n",
       "    </tr>\n",
       "  </tbody>\n",
       "</table>\n",
       "</div>"
      ],
      "text/plain": [
       "   mean_fit_time  std_fit_time  ...  mean_train_score  std_train_score\n",
       "0       0.056013      0.000733  ...          0.779517         0.002954\n",
       "1       0.054557      0.001521  ...          0.776357         0.002879\n",
       "2       0.057896      0.003658  ...          0.771710         0.002813\n",
       "3       0.056105      0.001750  ...          0.764923         0.002761\n",
       "4       0.052802      0.000655  ...          0.754490         0.002702\n",
       "\n",
       "[5 rows x 17 columns]"
      ]
     },
     "execution_count": 26,
     "metadata": {
      "tags": []
     },
     "output_type": "execute_result"
    }
   ],
   "source": [
    "from sklearn.naive_bayes import MultinomialNB\n",
    "from scipy.stats import randint as sp_randint\n",
    "from sklearn.model_selection import RandomizedSearchCV\n",
    "import random \n",
    "import matplotlib.pyplot as plt\n",
    "\n",
    "\n",
    "nb_bow = MultinomialNB()\n",
    "\n",
    "parameters = {'alpha':[0.0001, 0.001, 0.01, 0.1, 1, 10, 100, 1000]}\n",
    "classifier = RandomizedSearchCV(nb, parameters, cv=3, return_train_score=True,scoring='roc_auc',)\n",
    "\n",
    "classifier.fit(x_tr,y_train)\n",
    "\n",
    "results = pd.DataFrame.from_dict(classifier.cv_results_)\n",
    "results = results.sort_values(['param_alpha'])\n",
    "\n",
    "train_auc= results['mean_train_score']\n",
    "train_auc_std= results['std_train_score']\n",
    "cv_auc = results['mean_test_score'] \n",
    "cv_auc_std= results['std_test_score']\n",
    "alpha =  results['param_alpha']\n",
    "\n",
    "\n",
    "plt.plot(alpha, train_auc, label='Train AUC')\n",
    "# this code is copied from here: https://stackoverflow.com/a/48803361/4084039\n",
    "# plt.gca().fill_between(K, train_auc - train_auc_std,train_auc + train_auc_std,alpha=0.2,color='darkblue')\n",
    "\n",
    "plt.plot(alpha, cv_auc, label='CV AUC')\n",
    "# this code is copied from here: https://stackoverflow.com/a/48803361/4084039\n",
    "# plt.gca().fill_between(K, cv_auc - cv_auc_std,cv_auc + cv_auc_std,alpha=0.2,color='darkorange')\n",
    "\n",
    "plt.semilogx(alpha, train_auc, label='Train AUC')\n",
    "plt.semilogx(alpha, cv_auc, label='CV AUC')\n",
    "\n",
    "plt.scatter(alpha, train_auc, label='Train AUC points')\n",
    "plt.scatter(alpha, cv_auc, label='CV AUC points')\n",
    "\n",
    "plt.legend()\n",
    "plt.xlabel(\"alpha: hyperparameter\")\n",
    "plt.ylabel(\"AUC\")\n",
    "plt.title(\"Hyper parameter Vs AUC plot\")\n",
    "plt.grid()\n",
    "plt.show()\n",
    "\n",
    "results.head()\n"
   ]
  },
  {
   "cell_type": "code",
   "execution_count": 0,
   "metadata": {
    "colab": {},
    "colab_type": "code",
    "id": "rq1_bBS-g5Je"
   },
   "outputs": [],
   "source": [
    "#Best hyper-parameter\n",
    "bow_alpha = 10"
   ]
  },
  {
   "cell_type": "markdown",
   "metadata": {},
   "source": [
    "### Training Model for best Alpha"
   ]
  },
  {
   "cell_type": "code",
   "execution_count": 0,
   "metadata": {
    "colab": {},
    "colab_type": "code",
    "id": "lNNmY9rCyz9B"
   },
   "outputs": [],
   "source": [
    "def batch_predict(clf, data):\n",
    "    # roc_auc_score(y_true, y_score) the 2nd parameter should be probability estimates of the positive class\n",
    "    # not the predicted outputs\n",
    "\n",
    "    y_data_pred = []\n",
    "    tr_loop = data.shape[0] - data.shape[0]%1000\n",
    "    # consider you X_tr shape is 49041, then your tr_loop will be 49041 - 49041%1000 = 49000\n",
    "    # in this for loop we will iterate unti the last 1000 multiplier\n",
    "    for i in range(0, tr_loop, 1000):\n",
    "        y_data_pred.extend(clf.predict_proba(data[i:i+1000])[:,1])\n",
    "    # we will be predicting for the last data points\n",
    "    if data.shape[0]%1000 !=0:\n",
    "        y_data_pred.extend(clf.predict_proba(data[tr_loop:])[:,1])\n",
    "    \n",
    "    return y_data_pred"
   ]
  },
  {
   "cell_type": "code",
   "execution_count": 29,
   "metadata": {
    "colab": {
     "base_uri": "https://localhost:8080/",
     "height": 295
    },
    "colab_type": "code",
    "id": "Hwrcbo7zyz7m",
    "outputId": "bebb22e7-034b-46c9-d13e-9d8346fd73b9"
   },
   "outputs": [
    {
     "data": {
      "image/png": "[encoded data removed]",
      "text/plain": [
       "<Figure size 432x288 with 1 Axes>"
      ]
     },
     "metadata": {
      "tags": []
     },
     "output_type": "display_data"
    }
   ],
   "source": [
    "\n",
    "# https://scikit-learn.org/stable/modules/generated/sklearn.metrics.roc_curve.html#sklearn.metrics.roc_curve\n",
    "from sklearn.metrics import roc_curve, auc\n",
    "\n",
    "\n",
    "nb_bow = MultinomialNB(alpha=bow_alpha)\n",
    "nb_bow.fit(x_tr, y_train)\n",
    "# roc_auc_score(y_true, y_score) the 2nd parameter should be probability estimates of the positive class\n",
    "# not the predicted outputs\n",
    "\n",
    "\n",
    "\n",
    "y_train_pred = batch_predict(nb_bow, x_tr)    \n",
    "y_test_pred = batch_predict(nb_bow, x_te)\n",
    "\n",
    "train_fpr, train_tpr, tr_thresholds = roc_curve(y_train, y_train_pred)\n",
    "test_fpr, test_tpr, te_thresholds = roc_curve(y_test, y_test_pred)\n",
    "\n",
    "train_auc_bow = round(auc(train_fpr, train_tpr),2)\n",
    "test_auc_bow = round(auc(test_fpr, test_tpr),2)\n",
    "\n",
    "plt.plot(train_fpr, train_tpr, label=\"train AUC =\"+str(auc(train_fpr, train_tpr)))\n",
    "plt.plot(test_fpr, test_tpr, label=\"test AUC =\"+str(auc(test_fpr, test_tpr)))\n",
    "plt.legend()\n",
    "plt.xlabel(\"alpha: hyperparameter\")\n",
    "plt.ylabel(\"AUC\")\n",
    "plt.title(\"ERROR PLOTS\")\n",
    "plt.grid()\n",
    "plt.show()\n",
    "\n"
   ]
  },
  {
   "cell_type": "code",
   "execution_count": 0,
   "metadata": {
    "colab": {},
    "colab_type": "code",
    "id": "dzv0mZ1laOk3"
   },
   "outputs": [],
   "source": [
    "import numpy as np\n",
    "\n",
    "def find_best_threshold(threshould, fpr, tpr):\n",
    "    t = threshould[np.argmax(tpr*(1-fpr))]\n",
    "    # (tpr*(1-fpr)) will be maximum if your fpr is very low and tpr is very high\n",
    "    print(\"the maximum value of tpr*(1-fpr)\", max(tpr*(1-fpr)), \"for threshold\", np.round(t,3))\n",
    "    return t\n",
    "\n",
    "def predict_with_best_t(proba, threshould):\n",
    "    predictions = []\n",
    "    for i in proba:\n",
    "        if i>=threshould:\n",
    "            predictions.append(1)\n",
    "        else:\n",
    "            predictions.append(0)\n",
    "    return predictions"
   ]
  },
  {
   "cell_type": "markdown",
   "metadata": {},
   "source": [
    "### Confusion Matrix "
   ]
  },
  {
   "cell_type": "code",
   "execution_count": 31,
   "metadata": {
    "colab": {
     "base_uri": "https://localhost:8080/",
     "height": 164
    },
    "colab_type": "code",
    "id": "hF1tY8ibaOwO",
    "outputId": "45938ce3-0425-4a39-e49c-488bc6594df6"
   },
   "outputs": [
    {
     "name": "stdout",
     "output_type": "stream",
     "text": [
      "====================================================================================================\n",
      "the maximum value of tpr*(1-fpr) 0.4524237234348346 for threshold 0.978\n",
      "Train confusion matrix\n",
      "[[ 5054  2372]\n",
      " [13951 27664]]\n",
      "Test confusion matrix\n",
      "[[ 3437  2022]\n",
      " [10353 20240]]\n"
     ]
    }
   ],
   "source": [
    "print(\"=\"*100)\n",
    "from sklearn.metrics import confusion_matrix\n",
    "best_t = find_best_threshold(tr_thresholds, train_fpr, train_tpr)\n",
    "print(\"Train confusion matrix\")\n",
    "print(confusion_matrix(y_train, predict_with_best_t(y_train_pred, best_t)))\n",
    "print(\"Test confusion matrix\")\n",
    "print(confusion_matrix(y_test, predict_with_best_t(y_test_pred, best_t)))"
   ]
  },
  {
   "cell_type": "markdown",
   "metadata": {
    "colab": {},
    "colab_type": "code",
    "id": "ha2OVaHQyz0L"
   },
   "source": [
    "## 1.2 Tf-idf Implementation\n",
    "\n"
   ]
  },
  {
   "cell_type": "code",
   "execution_count": 0,
   "metadata": {
    "colab": {},
    "colab_type": "code",
    "id": "qcMYd0dS23yP"
   },
   "outputs": [],
   "source": [
    "from sklearn.feature_extraction.text import TfidfVectorizer\n"
   ]
  },
  {
   "cell_type": "markdown",
   "metadata": {},
   "source": [
    "**Essay Tf-idf vectorization**"
   ]
  },
  {
   "cell_type": "code",
   "execution_count": 34,
   "metadata": {
    "colab": {
     "base_uri": "https://localhost:8080/",
     "height": 164
    },
    "colab_type": "code",
    "id": "xTbkYkcK3b6x",
    "outputId": "336cf51a-b977-432c-f398-dfaca914bd7a"
   },
   "outputs": [
    {
     "name": "stdout",
     "output_type": "stream",
     "text": [
      "(49041, 9) (49041,)\n",
      "(24155, 9) (24155,)\n",
      "(36052, 9) (36052,)\n",
      "====================================================================================================\n",
      "After vectorizations\n",
      "(49041, 5000) (49041,)\n",
      "(24155, 5000) (24155,)\n",
      "(36052, 5000) (36052,)\n"
     ]
    }
   ],
   "source": [
    "print(x_train.shape, y_train.shape)\n",
    "print(x_cv.shape, y_cv.shape)\n",
    "print(x_test.shape, y_test.shape)\n",
    "\n",
    "print(\"=\"*100)\n",
    "\n",
    "\n",
    "vectorizer = TfidfVectorizer(min_df=10,ngram_range=(1,4),max_features=5000)\n",
    "vectorizer.fit(x_train['essay'].values) # fit has to happen only on train data\n",
    "\n",
    "x_train_essay_tfidf = vectorizer.transform(x_train['essay'].values)\n",
    "x_cv_essay_tfidf = vectorizer.transform(x_cv['essay'].values)\n",
    "x_test_essay_tfidf = vectorizer.transform(x_test['essay'].values)\n",
    "    \n",
    "\n",
    "print(\"After vectorizations\")\n",
    "print(x_train_essay_tfidf.shape, y_train.shape)\n",
    "print(x_cv_essay_tfidf.shape, y_cv.shape)\n",
    "print(x_test_essay_tfidf.shape, y_test.shape)\n"
   ]
  },
  {
   "cell_type": "markdown",
   "metadata": {},
   "source": [
    "**Project Title Tf-idf vectorization**"
   ]
  },
  {
   "cell_type": "code",
   "execution_count": 35,
   "metadata": {
    "colab": {
     "base_uri": "https://localhost:8080/",
     "height": 164
    },
    "colab_type": "code",
    "id": "tVp1tLQi5mJv",
    "outputId": "40f44f16-0970-4515-884a-6b1ac71c5938"
   },
   "outputs": [
    {
     "name": "stdout",
     "output_type": "stream",
     "text": [
      "(49041, 9) (49041,)\n",
      "(24155, 9) (24155,)\n",
      "(36052, 9) (36052,)\n",
      "====================================================================================================\n",
      "After vectorizations\n",
      "(49041, 3447) (49041,)\n",
      "(24155, 3447) (24155,)\n",
      "(36052, 3447) (36052,)\n"
     ]
    }
   ],
   "source": [
    "#project title\n",
    "print(x_train.shape, y_train.shape)\n",
    "print(x_cv.shape, y_cv.shape)\n",
    "print(x_test.shape, y_test.shape)\n",
    "\n",
    "print(\"=\"*100)\n",
    "\n",
    "vectorizer = TfidfVectorizer(min_df=10,ngram_range=(1,4),max_features=5000)\n",
    "vectorizer.fit(x_train['project_title'].values)  # fit has to happen only on train data\n",
    "\n",
    "x_train_project_title_tfidf = vectorizer.transform(x_train['project_title'].values)\n",
    "x_cv_project_title_tfidf = vectorizer.transform(x_cv['project_title'].values)\n",
    "x_test_project_title_tfidf = vectorizer.transform(x_test['project_title'].values)\n",
    "    \n",
    "\n",
    "print(\"After vectorizations\")\n",
    "print(x_train_project_title_tfidf.shape, y_train.shape)\n",
    "print(x_cv_project_title_tfidf.shape, y_cv.shape)\n",
    "print(x_test_project_title_tfidf.shape, y_test.shape)\n"
   ]
  },
  {
   "cell_type": "markdown",
   "metadata": {},
   "source": [
    "**Final data matrix**"
   ]
  },
  {
   "cell_type": "code",
   "execution_count": 36,
   "metadata": {
    "colab": {
     "base_uri": "https://localhost:8080/",
     "height": 109
    },
    "colab_type": "code",
    "id": "st-7zRRC5mLT",
    "outputId": "1969b6b5-4c25-4403-b65a-d15cde8b1970"
   },
   "outputs": [
    {
     "name": "stdout",
     "output_type": "stream",
     "text": [
      "Final Data matrix\n",
      "(49041, 8548) (49041,)\n",
      "(24155, 8548) (24155,)\n",
      "(36052, 8548) (36052,)\n",
      "====================================================================================================\n"
     ]
    }
   ],
   "source": [
    "# merge two sparse matrices: https://stackoverflow.com/a/19710648/4084039\n",
    "from scipy.sparse import hstack\n",
    "x_tr = hstack((x_train_essay_tfidf,x_train_project_title_tfidf, x_train_state_ohe, x_train_teacher_ohe, x_train_grade_ohe,x_train_clean_cat_ohe,x_train_subcat_ohe, x_train_price_norm,x_train_teacher_num_norm)).tocsr()\n",
    "x_cr = hstack((x_cv_essay_tfidf,x_cv_project_title_tfidf, x_cv_state_ohe, x_cv_teacher_ohe, x_cv_grade_ohe,x_cv_clean_cat_ohe,x_cv_subcat_ohe, x_cv_price_norm,x_cv_teacher_num_norm)).tocsr()\n",
    "x_te = hstack((x_test_essay_tfidf,x_test_project_title_tfidf, x_test_state_ohe, x_test_teacher_ohe, x_test_grade_ohe,x_test_clean_cat_ohe,x_test_subcat_ohe, x_test_price_norm,x_test_teacher_num_norm)).tocsr()\n",
    "\n",
    "print(\"Final Data matrix\")\n",
    "print(x_tr.shape, y_train.shape)\n",
    "print(x_cr.shape, y_cv.shape)\n",
    "print(x_te.shape, y_test.shape)\n",
    "print(\"=\"*100)"
   ]
  },
  {
   "cell_type": "markdown",
   "metadata": {},
   "source": [
    "### Hyper parameter tuning for tf-idf  "
   ]
  },
  {
   "cell_type": "code",
   "execution_count": 37,
   "metadata": {
    "colab": {
     "base_uri": "https://localhost:8080/",
     "height": 632
    },
    "colab_type": "code",
    "id": "oGwku0bq5mLg",
    "outputId": "f0ebe833-2230-4e97-97be-3e2a21a101fc"
   },
   "outputs": [
    {
     "name": "stderr",
     "output_type": "stream",
     "text": [
      "/usr/local/lib/python3.6/dist-packages/sklearn/model_selection/_search.py:281: UserWarning: The total space of parameters 8 is smaller than n_iter=10. Running 8 iterations. For exhaustive searches, use GridSearchCV.\n",
      "  % (grid_size, self.n_iter, grid_size), UserWarning)\n"
     ]
    },
    {
     "data": {
      "image/png": "[encoded data removed]",
      "text/plain": [
       "<Figure size 432x288 with 1 Axes>"
      ]
     },
     "metadata": {
      "tags": []
     },
     "output_type": "display_data"
    },
    {
     "data": {
      "text/html": [
       "<div>\n",
       "<style scoped>\n",
       "    .dataframe tbody tr th:only-of-type {\n",
       "        vertical-align: middle;\n",
       "    }\n",
       "\n",
       "    .dataframe tbody tr th {\n",
       "        vertical-align: top;\n",
       "    }\n",
       "\n",
       "    .dataframe thead th {\n",
       "        text-align: right;\n",
       "    }\n",
       "</style>\n",
       "<table border=\"1\" class=\"dataframe\">\n",
       "  <thead>\n",
       "    <tr style=\"text-align: right;\">\n",
       "      <th></th>\n",
       "      <th>mean_fit_time</th>\n",
       "      <th>std_fit_time</th>\n",
       "      <th>mean_score_time</th>\n",
       "      <th>std_score_time</th>\n",
       "      <th>param_alpha</th>\n",
       "      <th>params</th>\n",
       "      <th>split0_test_score</th>\n",
       "      <th>split1_test_score</th>\n",
       "      <th>split2_test_score</th>\n",
       "      <th>mean_test_score</th>\n",
       "      <th>std_test_score</th>\n",
       "      <th>rank_test_score</th>\n",
       "      <th>split0_train_score</th>\n",
       "      <th>split1_train_score</th>\n",
       "      <th>split2_train_score</th>\n",
       "      <th>mean_train_score</th>\n",
       "      <th>std_train_score</th>\n",
       "    </tr>\n",
       "  </thead>\n",
       "  <tbody>\n",
       "    <tr>\n",
       "      <th>0</th>\n",
       "      <td>0.052759</td>\n",
       "      <td>0.001813</td>\n",
       "      <td>0.018010</td>\n",
       "      <td>0.000695</td>\n",
       "      <td>0.0001</td>\n",
       "      <td>{'alpha': 0.0001}</td>\n",
       "      <td>0.606335</td>\n",
       "      <td>0.598528</td>\n",
       "      <td>0.610713</td>\n",
       "      <td>0.605192</td>\n",
       "      <td>0.005040</td>\n",
       "      <td>5</td>\n",
       "      <td>0.796244</td>\n",
       "      <td>0.801368</td>\n",
       "      <td>0.800512</td>\n",
       "      <td>0.799375</td>\n",
       "      <td>0.002241</td>\n",
       "    </tr>\n",
       "    <tr>\n",
       "      <th>1</th>\n",
       "      <td>0.053001</td>\n",
       "      <td>0.002547</td>\n",
       "      <td>0.018812</td>\n",
       "      <td>0.003193</td>\n",
       "      <td>0.001</td>\n",
       "      <td>{'alpha': 0.001}</td>\n",
       "      <td>0.607297</td>\n",
       "      <td>0.599323</td>\n",
       "      <td>0.611182</td>\n",
       "      <td>0.605934</td>\n",
       "      <td>0.004937</td>\n",
       "      <td>4</td>\n",
       "      <td>0.796136</td>\n",
       "      <td>0.801268</td>\n",
       "      <td>0.800358</td>\n",
       "      <td>0.799254</td>\n",
       "      <td>0.002236</td>\n",
       "    </tr>\n",
       "    <tr>\n",
       "      <th>2</th>\n",
       "      <td>0.051813</td>\n",
       "      <td>0.001986</td>\n",
       "      <td>0.017911</td>\n",
       "      <td>0.001140</td>\n",
       "      <td>0.01</td>\n",
       "      <td>{'alpha': 0.01}</td>\n",
       "      <td>0.610717</td>\n",
       "      <td>0.602990</td>\n",
       "      <td>0.613330</td>\n",
       "      <td>0.609012</td>\n",
       "      <td>0.004390</td>\n",
       "      <td>3</td>\n",
       "      <td>0.795483</td>\n",
       "      <td>0.800601</td>\n",
       "      <td>0.799615</td>\n",
       "      <td>0.798566</td>\n",
       "      <td>0.002217</td>\n",
       "    </tr>\n",
       "    <tr>\n",
       "      <th>3</th>\n",
       "      <td>0.049190</td>\n",
       "      <td>0.000324</td>\n",
       "      <td>0.017058</td>\n",
       "      <td>0.000475</td>\n",
       "      <td>0.1</td>\n",
       "      <td>{'alpha': 0.1}</td>\n",
       "      <td>0.621928</td>\n",
       "      <td>0.616011</td>\n",
       "      <td>0.623702</td>\n",
       "      <td>0.620547</td>\n",
       "      <td>0.003288</td>\n",
       "      <td>2</td>\n",
       "      <td>0.790692</td>\n",
       "      <td>0.795524</td>\n",
       "      <td>0.795100</td>\n",
       "      <td>0.793772</td>\n",
       "      <td>0.002185</td>\n",
       "    </tr>\n",
       "    <tr>\n",
       "      <th>4</th>\n",
       "      <td>0.050385</td>\n",
       "      <td>0.000663</td>\n",
       "      <td>0.016512</td>\n",
       "      <td>0.000490</td>\n",
       "      <td>1</td>\n",
       "      <td>{'alpha': 1}</td>\n",
       "      <td>0.633112</td>\n",
       "      <td>0.628677</td>\n",
       "      <td>0.637319</td>\n",
       "      <td>0.633036</td>\n",
       "      <td>0.003529</td>\n",
       "      <td>1</td>\n",
       "      <td>0.753202</td>\n",
       "      <td>0.757272</td>\n",
       "      <td>0.759014</td>\n",
       "      <td>0.756496</td>\n",
       "      <td>0.002435</td>\n",
       "    </tr>\n",
       "  </tbody>\n",
       "</table>\n",
       "</div>"
      ],
      "text/plain": [
       "   mean_fit_time  std_fit_time  ...  mean_train_score  std_train_score\n",
       "0       0.052759      0.001813  ...          0.799375         0.002241\n",
       "1       0.053001      0.002547  ...          0.799254         0.002236\n",
       "2       0.051813      0.001986  ...          0.798566         0.002217\n",
       "3       0.049190      0.000324  ...          0.793772         0.002185\n",
       "4       0.050385      0.000663  ...          0.756496         0.002435\n",
       "\n",
       "[5 rows x 17 columns]"
      ]
     },
     "execution_count": 37,
     "metadata": {
      "tags": []
     },
     "output_type": "execute_result"
    }
   ],
   "source": [
    "from sklearn.naive_bayes import MultinomialNB\n",
    "from scipy.stats import randint as sp_randint\n",
    "from sklearn.model_selection import RandomizedSearchCV\n",
    "import random \n",
    "import matplotlib.pyplot as plt\n",
    "\n",
    "\n",
    "nb = MultinomialNB()\n",
    "\n",
    "parameters = {'alpha':[0.0001, 0.001, 0.01, 0.1, 1, 10, 100, 1000]}\n",
    "classifier = RandomizedSearchCV(nb, parameters, cv=3, return_train_score=True,scoring='roc_auc',)\n",
    "\n",
    "classifier.fit(x_tr,y_train)\n",
    "\n",
    "\n",
    "results = pd.DataFrame.from_dict(classifier.cv_results_)\n",
    "results = results.sort_values(['param_alpha'])\n",
    "\n",
    "train_auc= results['mean_train_score']\n",
    "train_auc_std= results['std_train_score']\n",
    "cv_auc = results['mean_test_score'] \n",
    "cv_auc_std= results['std_test_score']\n",
    "alpha =  results['param_alpha']\n",
    "\n",
    "\n",
    "plt.plot(alpha, train_auc, label='Train AUC')\n",
    "# this code is copied from here: https://stackoverflow.com/a/48803361/4084039\n",
    "# plt.gca().fill_between(K, train_auc - train_auc_std,train_auc + train_auc_std,alpha=0.2,color='darkblue')\n",
    "\n",
    "plt.plot(alpha, cv_auc, label='CV AUC')\n",
    "# this code is copied from here: https://stackoverflow.com/a/48803361/4084039\n",
    "# plt.gca().fill_between(K, cv_auc - cv_auc_std,cv_auc + cv_auc_std,alpha=0.2,color='darkorange')\n",
    "\n",
    "plt.semilogx(alpha, train_auc, label='Train AUC')\n",
    "plt.semilogx(alpha, cv_auc, label='CV AUC')\n",
    "\n",
    "plt.scatter(alpha, train_auc, label='Train AUC points')\n",
    "plt.scatter(alpha, cv_auc, label='CV AUC points')\n",
    "\n",
    "\n",
    "plt.legend()\n",
    "plt.xlabel(\"alpha: hyperparameter\")\n",
    "plt.ylabel(\"AUC\")\n",
    "plt.title(\"Hyper parameter Vs AUC plot\")\n",
    "plt.grid()\n",
    "plt.show()\n",
    "\n",
    "results.head()\n"
   ]
  },
  {
   "cell_type": "code",
   "execution_count": 0,
   "metadata": {
    "colab": {},
    "colab_type": "code",
    "id": "OA8Uux51h6Hr"
   },
   "outputs": [],
   "source": [
    "#Best alpha\n",
    "tfidf_alpha = 1"
   ]
  },
  {
   "cell_type": "markdown",
   "metadata": {},
   "source": [
    "**Traning model on best alpha**"
   ]
  },
  {
   "cell_type": "code",
   "execution_count": 0,
   "metadata": {
    "colab": {},
    "colab_type": "code",
    "id": "zm6gZD4s5mLp"
   },
   "outputs": [],
   "source": [
    "def batch_predict(clf, data):\n",
    "    # roc_auc_score(y_true, y_score) the 2nd parameter should be probability estimates of the positive class\n",
    "    # not the predicted outputs\n",
    "\n",
    "    y_data_pred = []\n",
    "    tr_loop = data.shape[0] - data.shape[0]%1000\n",
    "    # consider you X_tr shape is 49041, then your tr_loop will be 49041 - 49041%1000 = 49000\n",
    "    # in this for loop we will iterate unti the last 1000 multiplier\n",
    "    for i in range(0, tr_loop, 1000):\n",
    "        y_data_pred.extend(clf.predict_proba(data[i:i+1000])[:,1])\n",
    "    # we will be predicting for the last data points\n",
    "    if data.shape[0]%1000 !=0:\n",
    "        y_data_pred.extend(clf.predict_proba(data[tr_loop:])[:,1])\n",
    "    \n",
    "    return y_data_pred"
   ]
  },
  {
   "cell_type": "code",
   "execution_count": 40,
   "metadata": {
    "colab": {
     "base_uri": "https://localhost:8080/",
     "height": 295
    },
    "colab_type": "code",
    "id": "YVWGQc_U5mLz",
    "outputId": "62fb4dca-8b58-405d-9a6f-6486e6357769"
   },
   "outputs": [
    {
     "data": {
      "image/png": "[encoded data removed]",
      "text/plain": [
       "<Figure size 432x288 with 1 Axes>"
      ]
     },
     "metadata": {
      "tags": []
     },
     "output_type": "display_data"
    }
   ],
   "source": [
    "# https://scikit-learn.org/stable/modules/generated/sklearn.metrics.roc_curve.html#sklearn.metrics.roc_curve\n",
    "from sklearn.metrics import roc_curve, auc\n",
    "\n",
    "\n",
    "nb = MultinomialNB(alpha=tfidf_alpha)\n",
    "nb.fit(x_tr, y_train)\n",
    "# roc_auc_score(y_true, y_score) the 2nd parameter should be probability estimates of the positive class\n",
    "# not the predicted outputs\n",
    "\n",
    "y_train_pred = batch_predict(nb, x_tr)    \n",
    "y_test_pred = batch_predict(nb, x_te)\n",
    "\n",
    "train_fpr, train_tpr, tr_thresholds = roc_curve(y_train, y_train_pred)\n",
    "test_fpr, test_tpr, te_thresholds = roc_curve(y_test, y_test_pred)\n",
    "\n",
    "train_auc_tfidf = round(auc(train_fpr, train_tpr),2)\n",
    "test_auc_tfidf = round(auc(test_fpr, test_tpr),2)\n",
    "\n",
    "plt.plot(train_fpr, train_tpr, label=\"train AUC =\"+str(auc(train_fpr, train_tpr)))\n",
    "plt.plot(test_fpr, test_tpr, label=\"test AUC =\"+str(auc(test_fpr, test_tpr)))\n",
    "plt.legend()\n",
    "plt.xlabel(\"alpha: hyperparameter\")\n",
    "plt.ylabel(\"AUC\")\n",
    "plt.title(\"ERROR PLOTS\")\n",
    "plt.grid()\n",
    "plt.show()\n"
   ]
  },
  {
   "cell_type": "code",
   "execution_count": 0,
   "metadata": {
    "colab": {},
    "colab_type": "code",
    "id": "pTc6Ij_WbhQk"
   },
   "outputs": [],
   "source": [
    "# we are writing our own function for predict, with defined thresould\n",
    "# we will pick a threshold that will give the least fpr\n",
    "def find_best_threshold(threshould, fpr, tpr):\n",
    "    t = threshould[np.argmax(tpr*(1-fpr))]\n",
    "    # (tpr*(1-fpr)) will be maximum if your fpr is very low and tpr is very high\n",
    "    print(\"the maximum value of tpr*(1-fpr)\", max(tpr*(1-fpr)), \"for threshold\", np.round(t,3))\n",
    "    return t\n",
    "\n",
    "def predict_with_best_t(proba, threshould):\n",
    "    predictions = []\n",
    "    for i in proba:\n",
    "        if i>=threshould:\n",
    "            predictions.append(1)\n",
    "        else:\n",
    "            predictions.append(0)\n",
    "    return predictions"
   ]
  },
  {
   "cell_type": "markdown",
   "metadata": {},
   "source": [
    "**Confusion Matrix**"
   ]
  },
  {
   "cell_type": "code",
   "execution_count": 42,
   "metadata": {
    "colab": {
     "base_uri": "https://localhost:8080/",
     "height": 164
    },
    "colab_type": "code",
    "id": "SLTK23A0VIK_",
    "outputId": "9d801746-2fc5-422f-c86b-d780a7edf230"
   },
   "outputs": [
    {
     "name": "stdout",
     "output_type": "stream",
     "text": [
      "====================================================================================================\n",
      "the maximum value of tpr*(1-fpr) 0.45501847553557306 for threshold 0.862\n",
      "Train confusion matrix\n",
      "[[ 5164  2262]\n",
      " [14385 27230]]\n",
      "Test confusion matrix\n",
      "[[ 3149  2310]\n",
      " [11066 19527]]\n"
     ]
    }
   ],
   "source": [
    "print(\"=\"*100)\n",
    "from sklearn.metrics import confusion_matrix\n",
    "best_t = find_best_threshold(tr_thresholds, train_fpr, train_tpr)\n",
    "print(\"Train confusion matrix\")\n",
    "print(confusion_matrix(y_train, predict_with_best_t(y_train_pred, best_t)))\n",
    "print(\"Test confusion matrix\")\n",
    "print(confusion_matrix(y_test, predict_with_best_t(y_test_pred, best_t)))"
   ]
  },
  {
   "cell_type": "markdown",
   "metadata": {
    "colab_type": "text",
    "id": "qJmZOGyCb7_f"
   },
   "source": [
    "## 2. Top 20 features\n"
   ]
  },
  {
   "cell_type": "code",
   "execution_count": 45,
   "metadata": {
    "colab": {
     "base_uri": "https://localhost:8080/",
     "height": 202
    },
    "colab_type": "code",
    "id": "X9zVf-p8mBWl",
    "outputId": "63f0402c-139d-4989-e7a2-51a3a3817fbe"
   },
   "outputs": [
    {
     "name": "stdout",
     "output_type": "stream",
     "text": [
      "20 most imp features for positive class:\n",
      "\n",
      "['mr', 'grades_9_12', 'appliedlearning', 'students', 'specialneeds', 'specialneeds', 'health_sports', 'ca', 'grades_6_8', 'literature_writing', 'mathematics', 'literacy', 'grades_3_5', 'ms', 'math_science', 'grades_prek_2', 'literacy_language', 'mrs', 'teacher_number_of_previously_posted_projects']\n",
      "\n",
      "----------------------------------------------------------------------------------------------------\n",
      "\n",
      "20 most imp features for negative class:\n",
      "\n",
      "['grades_9_12', 'appliedsciences', 'students', 'appliedlearning', 'health_sports', 'ca', 'specialneeds', 'specialneeds', 'grades_6_8', 'literature_writing', 'literacy', 'mathematics', 'grades_3_5', 'ms', 'math_science', 'grades_prek_2', 'literacy_language', 'mrs', 'teacher_number_of_previously_posted_projects']\n"
     ]
    }
   ],
   "source": [
    "#Reffered from\n",
    "#https://datascience.stackexchange.com/questions/65219/find-the-top-n-features-from-feature-set-using-absolute-values-of-feature-log-p\n",
    "\n",
    "# For positive class\n",
    "\n",
    "sorted_prob_class_1_ind = nb_bow.feature_log_prob_[1, :].argsort()\n",
    "# For negative class\n",
    "sorted_prob_class_0_ind = nb_bow.feature_log_prob_[0, :].argsort()\n",
    "\n",
    "Most_imp_words_1 = []\n",
    "Most_imp_words_0 = []\n",
    "\n",
    "for index in sorted_prob_class_1_ind[-20:-1]:\n",
    "    Most_imp_words_1.append(final_feature_names[index])\n",
    "\n",
    "for index in sorted_prob_class_0_ind[-20:-1]:\n",
    "    Most_imp_words_0.append(final_feature_names[index])\n",
    "\n",
    "print(\"20 most imp features for positive class:\\n\")\n",
    "print(Most_imp_words_1)\n",
    "\n",
    "print(\"\\n\" + \"-\"*100)\n",
    "\n",
    "print(\"\\n20 most imp features for negative class:\\n\")\n",
    "print(Most_imp_words_0)"
   ]
  },
  {
   "cell_type": "markdown",
   "metadata": {
    "colab_type": "text",
    "id": "xUIE9sjucFce"
   },
   "source": [
    "## 3. Summary"
   ]
  },
  {
   "cell_type": "code",
   "execution_count": 46,
   "metadata": {
    "colab": {
     "base_uri": "https://localhost:8080/",
     "height": 127
    },
    "colab_type": "code",
    "id": "legJXs7OcIp5",
    "outputId": "80a8c9fd-6f31-4db3-b76f-17e575aefecb"
   },
   "outputs": [
    {
     "name": "stdout",
     "output_type": "stream",
     "text": [
      "+------------+--------------------------+------------------------+-----------+----------+\n",
      "| Vectorizer |          Model           | Alpha(Hyper-parameter) | Train AUC | Test AUC |\n",
      "+------------+--------------------------+------------------------+-----------+----------+\n",
      "|    BoW     | Multinominal Naive Bayes |           10           |    0.72   |   0.69   |\n",
      "|   Tf-idf   | Multinominal Naive Bayes |           1            |    0.74   |   0.65   |\n",
      "+------------+--------------------------+------------------------+-----------+----------+\n"
     ]
    }
   ],
   "source": [
    "from prettytable import PrettyTable\n",
    "t = PrettyTable(['Vectorizer', 'Model','Alpha(Hyper-parameter)','Train AUC','Test AUC'])\n",
    "t.add_row(['BoW', 'Multinominal Naive Bayes',bow_alpha,train_auc_bow,test_auc_bow])\n",
    "t.add_row(['Tf-idf', 'Multinominal Naive Bayes',tfidf_alpha,train_auc_tfidf,test_auc_tfidf])\n",
    "print(t)"
   ]
  }
 ],
 "metadata": {
  "accelerator": "GPU",
  "colab": {
   "collapsed_sections": [],
   "name": "NaiveBayes.ipynb",
   "provenance": []
  },
  "kernelspec": {
   "display_name": "Python 3",
   "language": "python",
   "name": "python3"
  },
  "language_info": {
   "codemirror_mode": {
    "name": "ipython",
    "version": 3
   },
   "file_extension": ".py",
   "mimetype": "text/x-python",
   "name": "python",
   "nbconvert_exporter": "python",
   "pygments_lexer": "ipython3",
   "version": "3.7.3"
  }
 },
 "nbformat": 4,
 "nbformat_minor": 1
}
