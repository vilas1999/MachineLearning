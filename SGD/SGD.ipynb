{
  "nbformat": 4,
  "nbformat_minor": 0,
  "metadata": {
    "colab": {
      "name": "Logistic Regression using SGD.ipynb",
      "provenance": [],
      "collapsed_sections": []
    },
    "kernelspec": {
      "display_name": "Python 3",
      "language": "python",
      "name": "python3"
    },
    "language_info": {
      "codemirror_mode": {
        "name": "ipython",
        "version": 3
      },
      "file_extension": ".py",
      "mimetype": "text/x-python",
      "name": "python",
      "nbconvert_exporter": "python",
      "pygments_lexer": "ipython3",
      "version": "3.7.3"
    }
  },
  "cells": [
    {
      "cell_type": "code",
      "metadata": {
        "colab_type": "code",
        "id": "I2S-uFqwSvmg",
        "colab": {}
      },
      "source": [
        "import numpy as np  \n",
        "import pandas as pd\n",
        "from sklearn.datasets import make_classification"
      ],
      "execution_count": 0,
      "outputs": []
    },
    {
      "cell_type": "code",
      "metadata": {
        "colab_type": "code",
        "id": "FUxLkBjISvmr",
        "colab": {}
      },
      "source": [
        "X, y = make_classification(n_samples=50000, n_features=15, n_informative=10, n_redundant=5,\n",
        "                           n_classes=2, weights=[0.7], class_sep=0.7, random_state=15)"
      ],
      "execution_count": 0,
      "outputs": []
    },
    {
      "cell_type": "code",
      "metadata": {
        "colab_type": "code",
        "id": "xexp5GYNSvmz",
        "outputId": "60f30ef0-2263-4591-f8b9-b6b0a8ec91a5",
        "colab": {
          "base_uri": "https://localhost:8080/",
          "height": 35
        }
      },
      "source": [
        "X.shape, y.shape"
      ],
      "execution_count": 3,
      "outputs": [
        {
          "output_type": "execute_result",
          "data": {
            "text/plain": [
              "((50000, 15), (50000,))"
            ]
          },
          "metadata": {
            "tags": []
          },
          "execution_count": 3
        }
      ]
    },
    {
      "cell_type": "markdown",
      "metadata": {
        "colab_type": "text",
        "id": "54vJVc_KSvm9"
      },
      "source": [
        " "
      ]
    },
    {
      "cell_type": "code",
      "metadata": {
        "colab_type": "code",
        "id": "9pKAn1-ASvm_",
        "colab": {}
      },
      "source": [
        "from sklearn.model_selection import train_test_split"
      ],
      "execution_count": 0,
      "outputs": []
    },
    {
      "cell_type": "code",
      "metadata": {
        "colab_type": "code",
        "id": "r97pFTgrSvnE",
        "colab": {}
      },
      "source": [
        "X_train, X_test, y_train, y_test = train_test_split(X, y, test_size=0.25, random_state=15)"
      ],
      "execution_count": 0,
      "outputs": []
    },
    {
      "cell_type": "code",
      "metadata": {
        "colab_type": "code",
        "id": "jykLIXZNSvnJ",
        "outputId": "a81f3ca2-cd71-421b-a072-14321ccb69cd",
        "colab": {
          "base_uri": "https://localhost:8080/",
          "height": 35
        }
      },
      "source": [
        "X_train.shape, y_train.shape, X_test.shape, y_test.shape"
      ],
      "execution_count": 6,
      "outputs": [
        {
          "output_type": "execute_result",
          "data": {
            "text/plain": [
              "((37500, 15), (37500,), (12500, 15), (12500,))"
            ]
          },
          "metadata": {
            "tags": []
          },
          "execution_count": 6
        }
      ]
    },
    {
      "cell_type": "markdown",
      "metadata": {
        "colab_type": "text",
        "id": "g0-M6oXASvnO"
      },
      "source": [
        " "
      ]
    },
    {
      "cell_type": "code",
      "metadata": {
        "colab_type": "code",
        "id": "sShoMeocSvnP",
        "colab": {}
      },
      "source": [
        "from sklearn import linear_model"
      ],
      "execution_count": 0,
      "outputs": []
    },
    {
      "cell_type": "code",
      "metadata": {
        "colab_type": "code",
        "id": "gm6wi8L2SvnU",
        "outputId": "6c05b60b-b467-4bae-ec05-548ae633b8ee",
        "colab": {
          "base_uri": "https://localhost:8080/",
          "height": 127
        }
      },
      "source": [
        "# alpha : float\n",
        "# Constant that multiplies the regularization term. \n",
        "\n",
        "# eta0 : double\n",
        "# The initial learning rate for the ‘constant’, ‘invscaling’ or ‘adaptive’ schedules.\n",
        "\n",
        "clf = linear_model.SGDClassifier(eta0=0.0001, alpha=0.0001, loss='log', random_state=15, penalty='l2', tol=1e-3, verbose=2, learning_rate='constant')\n",
        "clf"
      ],
      "execution_count": 8,
      "outputs": [
        {
          "output_type": "execute_result",
          "data": {
            "text/plain": [
              "SGDClassifier(alpha=0.0001, average=False, class_weight=None,\n",
              "              early_stopping=False, epsilon=0.1, eta0=0.0001,\n",
              "              fit_intercept=True, l1_ratio=0.15, learning_rate='constant',\n",
              "              loss='log', max_iter=1000, n_iter_no_change=5, n_jobs=None,\n",
              "              penalty='l2', power_t=0.5, random_state=15, shuffle=True,\n",
              "              tol=0.001, validation_fraction=0.1, verbose=2, warm_start=False)"
            ]
          },
          "metadata": {
            "tags": []
          },
          "execution_count": 8
        }
      ]
    },
    {
      "cell_type": "code",
      "metadata": {
        "colab_type": "code",
        "id": "Q4WFoxgASvnc",
        "outputId": "9e1b83cc-747f-42cb-8121-041f514f5b34",
        "colab": {
          "base_uri": "https://localhost:8080/",
          "height": 697
        }
      },
      "source": [
        "clf.fit(X=X_train, y=y_train)"
      ],
      "execution_count": 9,
      "outputs": [
        {
          "output_type": "stream",
          "text": [
            "-- Epoch 1\n",
            "Norm: 0.77, NNZs: 15, Bias: -0.316653, T: 37500, Avg. loss: 0.455552\n",
            "Total training time: 0.01 seconds.\n",
            "-- Epoch 2\n",
            "Norm: 0.91, NNZs: 15, Bias: -0.472747, T: 75000, Avg. loss: 0.394686\n",
            "Total training time: 0.02 seconds.\n",
            "-- Epoch 3\n",
            "Norm: 0.98, NNZs: 15, Bias: -0.580082, T: 112500, Avg. loss: 0.385711\n",
            "Total training time: 0.03 seconds.\n",
            "-- Epoch 4\n",
            "Norm: 1.02, NNZs: 15, Bias: -0.658292, T: 150000, Avg. loss: 0.382083\n",
            "Total training time: 0.04 seconds.\n",
            "-- Epoch 5\n",
            "Norm: 1.04, NNZs: 15, Bias: -0.719528, T: 187500, Avg. loss: 0.380486\n",
            "Total training time: 0.05 seconds.\n",
            "-- Epoch 6\n",
            "Norm: 1.05, NNZs: 15, Bias: -0.763409, T: 225000, Avg. loss: 0.379578\n",
            "Total training time: 0.05 seconds.\n",
            "-- Epoch 7\n",
            "Norm: 1.06, NNZs: 15, Bias: -0.795106, T: 262500, Avg. loss: 0.379150\n",
            "Total training time: 0.06 seconds.\n",
            "-- Epoch 8\n",
            "Norm: 1.06, NNZs: 15, Bias: -0.819925, T: 300000, Avg. loss: 0.378856\n",
            "Total training time: 0.07 seconds.\n",
            "-- Epoch 9\n",
            "Norm: 1.07, NNZs: 15, Bias: -0.837805, T: 337500, Avg. loss: 0.378585\n",
            "Total training time: 0.08 seconds.\n",
            "-- Epoch 10\n",
            "Norm: 1.08, NNZs: 15, Bias: -0.853138, T: 375000, Avg. loss: 0.378630\n",
            "Total training time: 0.08 seconds.\n",
            "Convergence after 10 epochs took 0.08 seconds\n"
          ],
          "name": "stdout"
        },
        {
          "output_type": "execute_result",
          "data": {
            "text/plain": [
              "SGDClassifier(alpha=0.0001, average=False, class_weight=None,\n",
              "              early_stopping=False, epsilon=0.1, eta0=0.0001,\n",
              "              fit_intercept=True, l1_ratio=0.15, learning_rate='constant',\n",
              "              loss='log', max_iter=1000, n_iter_no_change=5, n_jobs=None,\n",
              "              penalty='l2', power_t=0.5, random_state=15, shuffle=True,\n",
              "              tol=0.001, validation_fraction=0.1, verbose=2, warm_start=False)"
            ]
          },
          "metadata": {
            "tags": []
          },
          "execution_count": 9
        }
      ]
    },
    {
      "cell_type": "code",
      "metadata": {
        "colab_type": "code",
        "id": "7WaVxhGpSvnj",
        "outputId": "778f5039-450f-4cf2-a690-945399cf9454",
        "colab": {
          "base_uri": "https://localhost:8080/",
          "height": 109
        }
      },
      "source": [
        "clf.coef_, clf.coef_.shape, clf.intercept_"
      ],
      "execution_count": 10,
      "outputs": [
        {
          "output_type": "execute_result",
          "data": {
            "text/plain": [
              "(array([[-0.42336692,  0.18547565, -0.14859036,  0.34144407, -0.2081867 ,\n",
              "          0.56016579, -0.45242483, -0.09408813,  0.2092732 ,  0.18084126,\n",
              "          0.19705191,  0.00421916, -0.0796037 ,  0.33852802,  0.02266721]]),\n",
              " (1, 15),\n",
              " array([-0.8531383]))"
            ]
          },
          "metadata": {
            "tags": []
          },
          "execution_count": 10
        }
      ]
    },
    {
      "cell_type": "markdown",
      "metadata": {
        "colab_type": "text",
        "id": "Su9e8fRLSvno"
      },
      "source": [
        " "
      ]
    },
    {
      "cell_type": "markdown",
      "metadata": {
        "colab_type": "text",
        "id": "gcz5_UqCSvnq"
      },
      "source": [
        " "
      ]
    },
    {
      "cell_type": "markdown",
      "metadata": {
        "colab_type": "text",
        "id": "UOBvEchCSvnr"
      },
      "source": [
        "## Implement Logistc Regression with L2 regularization Using SGD: without using sklearn"
      ]
    },
    {
      "cell_type": "markdown",
      "metadata": {
        "colab_type": "text",
        "id": "Xbn61rrXSvnt"
      },
      "source": [
        "### Instructions"
      ]
    },
    {
      "cell_type": "markdown",
      "metadata": {
        "colab_type": "text",
        "id": "14bA5yR3Svnv"
      },
      "source": [
        "- Load the datasets(train and test) into the respective arrays"
      ]
    },
    {
      "cell_type": "markdown",
      "metadata": {
        "colab_type": "text",
        "id": "c7183hFBSvnv"
      },
      "source": [
        "- Initialize the weight_vector and intercept term randomly"
      ]
    },
    {
      "cell_type": "markdown",
      "metadata": {
        "colab_type": "text",
        "id": "hdLeFU0USvnx"
      },
      "source": [
        "- Calculate the initlal log loss for the train and test data with the current weight and intercept and store it in a list"
      ]
    },
    {
      "cell_type": "markdown",
      "metadata": {
        "colab_type": "text",
        "id": "pEVtAlO1Svny"
      },
      "source": [
        "- for each epoch:\n",
        "    - for each batch of data points in train: (keep batch size=1)\n",
        "        - calculate the gradient of loss function w.r.t each weight in weight vector\n",
        "        - Calculate the gradient of the intercept <a href='https://drive.google.com/file/d/1nQ08-XY4zvOLzRX-lGf8EYB5arb7-m1H/view?usp=sharing'>check this</a>\n",
        "        - Update weights and intercept (check the equation number 32 in the above mentioned <a href='https://drive.google.com/file/d/1nQ08-XY4zvOLzRX-lGf8EYB5arb7-m1H/view?usp=sharing'>pdf</a>): <br>\n",
        "        $w^{(t+1)} ← (1 − \\frac{αλ}{N} )w^{(t)} + αx_n(y_n − σ((w^{(t)})^{T} x_n+b^{t}))$ <br>\n",
        "        $b^{(t+1)} ← (b^t +  α(y_n - σ((w^{(t)})^{T} x_n+b^{t}))$ \n",
        "        - calculate the log loss for train and test with the updated weights (you can check the python assignment 10th question)\n",
        "        - And if you wish, you can compare the previous loss and the current loss, if it is not updating, then\n",
        "        you can stop the training\n",
        "        - append this loss in the list ( this will be used to see how loss is changing for each epoch after the training is over )\n"
      ]
    },
    {
      "cell_type": "markdown",
      "metadata": {
        "colab_type": "text",
        "id": "2qmRH4UpSvny"
      },
      "source": [
        "- Plot the train and test loss i.e on x-axis the epoch number, and on y-axis the loss"
      ]
    },
    {
      "cell_type": "markdown",
      "metadata": {
        "colab_type": "text",
        "id": "lbZf9p5gSvn1"
      },
      "source": [
        "- <strong>GOAL</strong>: compare your implementation and SGDClassifier's the weights and intercept, make sure they are as close as possible i.e difference should be in terms of 10^-3"
      ]
    },
    {
      "cell_type": "code",
      "metadata": {
        "id": "F2ojr2IQEx4-",
        "colab_type": "code",
        "colab": {}
      },
      "source": [
        "import numpy as np"
      ],
      "execution_count": 0,
      "outputs": []
    },
    {
      "cell_type": "markdown",
      "metadata": {
        "id": "B7V0YVv9Ex5J",
        "colab_type": "text"
      },
      "source": [
        "## Initializing W,B,eta0 and alpha"
      ]
    },
    {
      "cell_type": "code",
      "metadata": {
        "colab_type": "code",
        "id": "Fpz8X5DMSvn2",
        "colab": {
          "base_uri": "https://localhost:8080/",
          "height": 35
        },
        "outputId": "6b3275ef-ea0d-4897-b01f-263c766ee11b"
      },
      "source": [
        "w = np.zeros_like(X_train[0])\n",
        "b = 0\n",
        "eta0  = 0.0001\n",
        "alpha = 0.0001\n",
        "N = len(X_train)\n",
        "N"
      ],
      "execution_count": 12,
      "outputs": [
        {
          "output_type": "execute_result",
          "data": {
            "text/plain": [
              "37500"
            ]
          },
          "metadata": {
            "tags": []
          },
          "execution_count": 12
        }
      ]
    },
    {
      "cell_type": "markdown",
      "metadata": {
        "id": "lIujvyQ1Ex5W",
        "colab_type": "text"
      },
      "source": [
        "### Computing Log-loss"
      ]
    },
    {
      "cell_type": "code",
      "metadata": {
        "id": "p2sjDWTKEx5Z",
        "colab_type": "code",
        "colab": {}
      },
      "source": [
        "import math\n",
        "# you can free to change all these codes/structure\n",
        "def compute_log_loss(y_train,pred):\n",
        "    sum1 = 0\n",
        "    for i in range(len(pred)):\n",
        "    \n",
        "        sum1 += ((y_train[i] * math.log(pred[i])) + ((1-y_train[i]) * math.log((1-pred[i]))))\n",
        "    \n",
        "    loss = (-sum1/len(y_train))\n",
        "    return loss"
      ],
      "execution_count": 0,
      "outputs": []
    },
    {
      "cell_type": "markdown",
      "metadata": {
        "id": "hA91PjbZEx5h",
        "colab_type": "text"
      },
      "source": [
        "### Sigmoid and predict functions"
      ]
    },
    {
      "cell_type": "code",
      "metadata": {
        "id": "k385Iaf7Ex5j",
        "colab_type": "code",
        "colab": {
          "base_uri": "https://localhost:8080/",
          "height": 54
        },
        "outputId": "74360c67-5bc9-4983-b61b-73ba27798431"
      },
      "source": [
        "def sigmoid(x,w,b):\n",
        "    return (1/(1+np.exp(-(np.dot(x,w)+b))))\n",
        "\n",
        "def predict(X_train,w,b):\n",
        "    pred = []\n",
        "\n",
        "    for i in range(len(X_train)):\n",
        "         pred.append(sigmoid(X_train[i],w,b))\n",
        "    \n",
        "    return pred\n",
        "\n",
        "train_loss = []\n",
        "test_loss  = []\n",
        "\n",
        "#print(pred[:5])\n",
        "train_pred = predict(X_train,w,b)\n",
        "test_pred = predict(X_test,w,b)\n",
        "\n",
        "#Computing log-loss        \n",
        "train_loss.append(compute_log_loss(y_train,train_pred))\n",
        "test_loss.append(compute_log_loss(y_test,test_pred))\n",
        "print(train_loss[0])\n",
        "print(test_loss[0])\n",
        "\n",
        "\n"
      ],
      "execution_count": 14,
      "outputs": [
        {
          "output_type": "stream",
          "text": [
            "0.6931471805594285\n",
            "0.6931471805600672\n"
          ],
          "name": "stdout"
        }
      ]
    },
    {
      "cell_type": "markdown",
      "metadata": {
        "id": "Bke7s6e4Ex5q",
        "colab_type": "text"
      },
      "source": [
        "### SGD with train and test loss"
      ]
    },
    {
      "cell_type": "code",
      "metadata": {
        "id": "kUEpjwTeEx5r",
        "colab_type": "code",
        "colab": {
          "base_uri": "https://localhost:8080/",
          "height": 1000
        },
        "outputId": "26153701-e4f5-421c-8bea-21f386f33459"
      },
      "source": [
        "import random\n",
        "\n",
        "for epoch in (range(100)):\n",
        "    for i in range(N):\n",
        "        batch = random.randrange(1,N)\n",
        "        \n",
        "        w = (( 1 - ( (alpha*eta0)/N) ) * w ) + ( (alpha*X_train[batch]) * ( y_train[batch] - sigmoid( X_train[batch],w, b) ) )\n",
        "        #w = (1 - ( (alpha * eta0)/N ) * w ) + ( ( alpha * X_train[batch] ) * ( y_train[batch] - sigmoid(X_train[batch],w,b ) ) )\n",
        "        #b = b + (alpha * (y_train[batch] - sigmoid(X_train,w,b))) \n",
        "        b = (b - ( alpha * ( -(y_train[batch]) + sigmoid(X_train[batch],w, b) ) ))\n",
        "\n",
        "    \n",
        "    y_train_ep = predict(X_train,w,b)\n",
        "    y_test_ep = predict(X_test,w,b)\n",
        "    \n",
        "    \n",
        "    train_loss.append(compute_log_loss(y_train,y_train_ep))\n",
        "    test_loss.append(compute_log_loss(y_test,y_test_ep))\n",
        "    \n",
        "    \n",
        "    print(\"Epoch\",epoch,\"train_loss\",train_loss[-1:],'test_loss',test_loss[-1:])\n",
        "        \n",
        "        \n",
        "        \n",
        "\n"
      ],
      "execution_count": 15,
      "outputs": [
        {
          "output_type": "stream",
          "text": [
            "Epoch 0 train_loss [0.4037381695280155] test_loss [0.4051409460739654]\n",
            "Epoch 1 train_loss [0.3881853608997544] test_loss [0.3898325942293472]\n",
            "Epoch 2 train_loss [0.3829884680624984] test_loss [0.3850343141489612]\n",
            "Epoch 3 train_loss [0.3810364322337181] test_loss [0.3829650524208779]\n",
            "Epoch 4 train_loss [0.3793307474020105] test_loss [0.3811837756963011]\n",
            "Epoch 5 train_loss [0.37899058749291276] test_loss [0.38093730513735213]\n",
            "Epoch 6 train_loss [0.37860451654347943] test_loss [0.3809161630106351]\n",
            "Epoch 7 train_loss [0.37859248967793074] test_loss [0.3806523284867069]\n",
            "Epoch 8 train_loss [0.37839479771533124] test_loss [0.38062307300682996]\n",
            "Epoch 9 train_loss [0.3785997381435557] test_loss [0.3801598326075643]\n",
            "Epoch 10 train_loss [0.37875586516661724] test_loss [0.3808460189708544]\n",
            "Epoch 11 train_loss [0.3785334950483176] test_loss [0.38043706353596246]\n",
            "Epoch 12 train_loss [0.378319311341773] test_loss [0.38046905269524517]\n",
            "Epoch 13 train_loss [0.37849586907479216] test_loss [0.38106104382028905]\n",
            "Epoch 14 train_loss [0.37844457709883084] test_loss [0.38077869343296433]\n",
            "Epoch 15 train_loss [0.37828723193219166] test_loss [0.38057143966617346]\n",
            "Epoch 16 train_loss [0.3782556257651049] test_loss [0.3802836106482321]\n",
            "Epoch 17 train_loss [0.37828596979548795] test_loss [0.38025606448603394]\n",
            "Epoch 18 train_loss [0.378790052102815] test_loss [0.3806353954847428]\n",
            "Epoch 19 train_loss [0.3785487186734486] test_loss [0.3806716857464192]\n",
            "Epoch 20 train_loss [0.37834039873327374] test_loss [0.380488759085167]\n",
            "Epoch 21 train_loss [0.37856679503859286] test_loss [0.3808323157183337]\n",
            "Epoch 22 train_loss [0.3784557350099683] test_loss [0.3805610330744679]\n",
            "Epoch 23 train_loss [0.3782690945458786] test_loss [0.3801988431722665]\n",
            "Epoch 24 train_loss [0.37833664657542676] test_loss [0.3805911635537753]\n",
            "Epoch 25 train_loss [0.3784389083729466] test_loss [0.3804360786727016]\n",
            "Epoch 26 train_loss [0.3784692967084271] test_loss [0.38015570499625095]\n",
            "Epoch 27 train_loss [0.37841150141590435] test_loss [0.3806889376559375]\n",
            "Epoch 28 train_loss [0.37831904368221814] test_loss [0.38042784510305055]\n",
            "Epoch 29 train_loss [0.37826504783083614] test_loss [0.3801105079157159]\n",
            "Epoch 30 train_loss [0.3784010305318321] test_loss [0.3802748021726142]\n",
            "Epoch 31 train_loss [0.37868579423054605] test_loss [0.3806650095170454]\n",
            "Epoch 32 train_loss [0.37839632632599973] test_loss [0.38008283843529606]\n",
            "Epoch 33 train_loss [0.37860429504902243] test_loss [0.38096074308666156]\n",
            "Epoch 34 train_loss [0.3783298607628876] test_loss [0.3804859460392227]\n",
            "Epoch 35 train_loss [0.37824503502500256] test_loss [0.38015237314926836]\n",
            "Epoch 36 train_loss [0.37879789758874044] test_loss [0.3803794993881466]\n",
            "Epoch 37 train_loss [0.3785472200787773] test_loss [0.38040218673309906]\n",
            "Epoch 38 train_loss [0.37838983389721187] test_loss [0.3802951235580614]\n",
            "Epoch 39 train_loss [0.378407534818248] test_loss [0.38084593052827237]\n",
            "Epoch 40 train_loss [0.37849607363090726] test_loss [0.38018167722818375]\n",
            "Epoch 41 train_loss [0.37887814382749574] test_loss [0.3805813042564888]\n",
            "Epoch 42 train_loss [0.37844404692467415] test_loss [0.38050030006947005]\n",
            "Epoch 43 train_loss [0.3786995542218357] test_loss [0.38059106130396336]\n",
            "Epoch 44 train_loss [0.3782801139447077] test_loss [0.3806497539785946]\n",
            "Epoch 45 train_loss [0.3785891608233322] test_loss [0.3808594095194392]\n",
            "Epoch 46 train_loss [0.37838072581047594] test_loss [0.3804360100608189]\n",
            "Epoch 47 train_loss [0.3781714066728731] test_loss [0.38016317734765137]\n",
            "Epoch 48 train_loss [0.37828268136228665] test_loss [0.38043582085017064]\n",
            "Epoch 49 train_loss [0.3783174939444274] test_loss [0.38047780731136643]\n",
            "Epoch 50 train_loss [0.37842365245193715] test_loss [0.3803371019224976]\n",
            "Epoch 51 train_loss [0.3783860620355435] test_loss [0.3801683995299245]\n",
            "Epoch 52 train_loss [0.37838055985588154] test_loss [0.3803110665815696]\n",
            "Epoch 53 train_loss [0.3783420480114288] test_loss [0.380476787936208]\n",
            "Epoch 54 train_loss [0.37865727386751236] test_loss [0.3804228973577421]\n",
            "Epoch 55 train_loss [0.3782474839632092] test_loss [0.3804848064206839]\n",
            "Epoch 56 train_loss [0.3782923586710222] test_loss [0.3804011586827127]\n",
            "Epoch 57 train_loss [0.378460508474135] test_loss [0.380454314739438]\n",
            "Epoch 58 train_loss [0.3785546435055251] test_loss [0.38099400105225767]\n",
            "Epoch 59 train_loss [0.3783692168838415] test_loss [0.3808645734690277]\n",
            "Epoch 60 train_loss [0.3790874604560089] test_loss [0.38078547195640866]\n",
            "Epoch 61 train_loss [0.378385870247855] test_loss [0.38066898640585073]\n",
            "Epoch 62 train_loss [0.37830267246996796] test_loss [0.38053803311555623]\n",
            "Epoch 63 train_loss [0.37824347026778515] test_loss [0.38021824983708474]\n",
            "Epoch 64 train_loss [0.3784408428316232] test_loss [0.38043835737265297]\n",
            "Epoch 65 train_loss [0.37836581233019456] test_loss [0.38068339216397623]\n",
            "Epoch 66 train_loss [0.37845100227737377] test_loss [0.3807824798604219]\n",
            "Epoch 67 train_loss [0.37847992231806377] test_loss [0.3804682657252031]\n",
            "Epoch 68 train_loss [0.3784411767775674] test_loss [0.38092653904334467]\n",
            "Epoch 69 train_loss [0.3782921860759299] test_loss [0.38020459935435513]\n",
            "Epoch 70 train_loss [0.3785881508556596] test_loss [0.3809583408438084]\n",
            "Epoch 71 train_loss [0.3783378803963715] test_loss [0.3803961820293535]\n",
            "Epoch 72 train_loss [0.37826974638864536] test_loss [0.38034150901414987]\n",
            "Epoch 73 train_loss [0.378530156100854] test_loss [0.3807972266983999]\n",
            "Epoch 74 train_loss [0.37858045151545444] test_loss [0.38051774743326866]\n",
            "Epoch 75 train_loss [0.37820712538405743] test_loss [0.38036716256505965]\n",
            "Epoch 76 train_loss [0.3784912937264594] test_loss [0.38031813672802245]\n",
            "Epoch 77 train_loss [0.3784848584366938] test_loss [0.38055749435134995]\n",
            "Epoch 78 train_loss [0.3783430587083698] test_loss [0.3807588672280358]\n",
            "Epoch 79 train_loss [0.37837175280467616] test_loss [0.38047390286230287]\n",
            "Epoch 80 train_loss [0.3784321673710929] test_loss [0.3807268129664003]\n",
            "Epoch 81 train_loss [0.3788426523451305] test_loss [0.3811161603145213]\n",
            "Epoch 82 train_loss [0.3787392300059855] test_loss [0.3810545793385992]\n",
            "Epoch 83 train_loss [0.37859481559275476] test_loss [0.38074771166607935]\n",
            "Epoch 84 train_loss [0.37836201947462694] test_loss [0.3805159208115878]\n",
            "Epoch 85 train_loss [0.3784248806056946] test_loss [0.3805133354351515]\n",
            "Epoch 86 train_loss [0.3786555140887769] test_loss [0.3814232068641636]\n",
            "Epoch 87 train_loss [0.37863614401627127] test_loss [0.3812271984515548]\n",
            "Epoch 88 train_loss [0.3785168930344105] test_loss [0.38013927520184143]\n",
            "Epoch 89 train_loss [0.3786452168124955] test_loss [0.3808409840228766]\n",
            "Epoch 90 train_loss [0.3786334208030699] test_loss [0.38057041732211777]\n",
            "Epoch 91 train_loss [0.3785733640230413] test_loss [0.38056684276704683]\n",
            "Epoch 92 train_loss [0.3784738321160625] test_loss [0.3809593605655751]\n",
            "Epoch 93 train_loss [0.37839491220362464] test_loss [0.3807692128526246]\n",
            "Epoch 94 train_loss [0.37847350866712937] test_loss [0.38017437066722504]\n",
            "Epoch 95 train_loss [0.3783669260998517] test_loss [0.3805901461418767]\n",
            "Epoch 96 train_loss [0.37831901692810516] test_loss [0.3803873096475521]\n",
            "Epoch 97 train_loss [0.37850949084546265] test_loss [0.38023338233336923]\n",
            "Epoch 98 train_loss [0.3782134534745643] test_loss [0.3802217437863191]\n",
            "Epoch 99 train_loss [0.3784287208870628] test_loss [0.3803246990204749]\n"
          ],
          "name": "stdout"
        }
      ]
    },
    {
      "cell_type": "markdown",
      "metadata": {
        "id": "91dCQyfjEx51",
        "colab_type": "text"
      },
      "source": [
        "### Plot of train-loss and test-loss"
      ]
    },
    {
      "cell_type": "code",
      "metadata": {
        "id": "v3ENhRAGEx53",
        "colab_type": "code",
        "colab": {
          "base_uri": "https://localhost:8080/",
          "height": 295
        },
        "outputId": "4bdfdfb0-497b-440d-b66d-6f4fea174e1a"
      },
      "source": [
        "import matplotlib.pyplot as plt\n",
        "\n",
        "#plt.figure(figsize=(9,6))\n",
        "\n",
        "plt.plot(train_loss[1:], label=\"train log-loss\")\n",
        "plt.plot(test_loss[1:], label=\"test log-loss\")\n",
        "\n",
        "plt.xlabel(\"Epoch\")\n",
        "plt.ylabel(\"Log-loss\")\n",
        "plt.legend()\n",
        "plt.title(\"Log-loss\")\n",
        "\n",
        "plt.show()\n"
      ],
      "execution_count": 16,
      "outputs": [
        {
          "output_type": "display_data",
          "data": {
            "image/png": "[encoded data removed]",
            "text/plain": [
              "<Figure size 432x288 with 1 Axes>"
            ]
          },
          "metadata": {
            "tags": [],
            "needs_background": "light"
          }
        }
      ]
    },
    {
      "cell_type": "markdown",
      "metadata": {
        "id": "7ULdVJ0CEx5_",
        "colab_type": "text"
      },
      "source": [
        "### Weight and intercept "
      ]
    },
    {
      "cell_type": "code",
      "metadata": {
        "id": "MZI9dbDSEx6B",
        "colab_type": "code",
        "colab": {
          "base_uri": "https://localhost:8080/",
          "height": 90
        },
        "outputId": "cd396546-51af-4be9-d4da-2d50bcb0254d"
      },
      "source": [
        "print(\"Weight vector(W) :\",w)\n",
        "print('Intercept(B) :',b)"
      ],
      "execution_count": 17,
      "outputs": [
        {
          "output_type": "stream",
          "text": [
            "Weight vector(W) : [-0.43026846  0.19244311 -0.14315103  0.34086735 -0.22428848  0.56679028\n",
            " -0.44654246 -0.09243658  0.22266273  0.17870868  0.20592653 -0.00220059\n",
            " -0.0813303   0.33423687  0.03268197]\n",
            "Intercept(B) : -0.891685729814871\n"
          ],
          "name": "stdout"
        }
      ]
    },
    {
      "cell_type": "markdown",
      "metadata": {
        "id": "xZHKyZJ0Ex6L",
        "colab_type": "text"
      },
      "source": [
        "### Diff btw skcit learn and custom implemented weights"
      ]
    },
    {
      "cell_type": "code",
      "metadata": {
        "colab_type": "code",
        "id": "Yy8jWaa7Svn_",
        "outputId": "7965b0c8-63a6-4386-c2e5-cf3c29b2a544",
        "scrolled": true,
        "colab": {
          "base_uri": "https://localhost:8080/",
          "height": 90
        }
      },
      "source": [
        "# these are the results we got after we implemented sgd and found the optimal weights and intercept\n",
        "w-clf.coef_, b-clf.intercept_"
      ],
      "execution_count": 18,
      "outputs": [
        {
          "output_type": "execute_result",
          "data": {
            "text/plain": [
              "(array([[-0.00690154,  0.00696746,  0.00543933, -0.00057672, -0.01610178,\n",
              "          0.0066245 ,  0.00588236,  0.00165155,  0.01338953, -0.00213258,\n",
              "          0.00887463, -0.00641975, -0.0017266 , -0.00429115,  0.01001476]]),\n",
              " array([-0.03854743]))"
            ]
          },
          "metadata": {
            "tags": []
          },
          "execution_count": 18
        }
      ]
    },
    {
      "cell_type": "markdown",
      "metadata": {
        "id": "0XgAEPCFEx6U",
        "colab_type": "text"
      },
      "source": [
        "### Calculating accuracy"
      ]
    },
    {
      "cell_type": "code",
      "metadata": {
        "colab_type": "code",
        "id": "48gx6wQKSvoE",
        "outputId": "364ce683-9400-471d-c017-e2e695af6a80",
        "colab": {
          "base_uri": "https://localhost:8080/",
          "height": 54
        }
      },
      "source": [
        "def pred(w,b, X):\n",
        "    N = len(X)\n",
        "    predict = []\n",
        "    for i in range(N):\n",
        "        if 1/(1+np.exp(-(np.dot(X[i],w)+b))) >= 0.5: # sigmoid(w,x,b) returns 1/(1+exp(-(dot(x,w)+b)))\n",
        "            predict.append(1)\n",
        "        else:\n",
        "            predict.append(0)\n",
        "    return np.array(predict)\n",
        "\n",
        "print(\"Train accuracy : \",1-np.sum(y_train - pred(w,b,X_train))/len(X_train))\n",
        "print(\"Test accuracy :\",1-np.sum(y_test  - pred(w,b,X_test))/len(X_test))"
      ],
      "execution_count": 19,
      "outputs": [
        {
          "output_type": "stream",
          "text": [
            "Train accuracy :  0.9541866666666666\n",
            "Test accuracy : 0.95256\n"
          ],
          "name": "stdout"
        }
      ]
    }
  ]
}